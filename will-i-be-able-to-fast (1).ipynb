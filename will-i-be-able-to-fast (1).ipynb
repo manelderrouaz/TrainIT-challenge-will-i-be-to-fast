{
 "cells": [
  {
   "cell_type": "code",
   "execution_count": 1,
   "metadata": {
    "executionCancelledAt": null,
    "executionTime": 11,
    "lastExecutedAt": 1709856162605,
    "lastScheduledRunId": null,
    "lastSuccessfullyExecutedCode": "import pandas as pd\nimport numpy as np\nimport matplotlib.pyplot as plt\nimport seaborn as sns\nimport warnings\n\nwarnings.filterwarnings(\"ignore\")"
   },
   "outputs": [],
   "source": [
    "\n",
    "import pandas as pd\n",
    "import numpy as np\n",
    "import matplotlib.pyplot as plt\n",
    "import seaborn as sns\n",
    "import warnings\n",
    "\n",
    "warnings.filterwarnings(\"ignore\")"
   ]
  },
  {
   "cell_type": "code",
   "execution_count": null,
   "metadata": {
    "executionCancelledAt": null,
    "executionTime": 102,
    "lastExecutedAt": 1709855823300,
    "lastScheduledRunId": null,
    "lastSuccessfullyExecutedCode": "# Assuming you have a list of file names for your CSV files\ncsv_files = ['train_Demographics.csv', 'train_Laboratory_Findings.csv', 'train_Medical_History.csv', 'train_Vital_Signs.csv' , 'train_Target_data.csv']\n\n# Initialize an empty list to store each file's DataFrame \ndataframes = []\n\n# Loop through each file, read it into a DataFrame, and append it to the list\nfor file in csv_files:\n    df = pd.read_csv(file)\n    dataframes.append(df)\n\n# To correctly concatenate DataFrames by 'id', you should use pd.merge in a loop instead of pd.concat\n# This is because pd.concat stacks DataFrames vertically or horizontally, but does not merge them by a key\n# Initialize a base DataFrame to merge others onto\ntrain_df = dataframes[0]\n\n# Loop through the remaining DataFrames and merge them one by one\nfor df in dataframes[1:]:\n    train_df = pd.merge(base_df, df, on='id', how='outer')\n\n# Display the first few rows of the combined DataFrame\ntrain_df.head()",
    "outputsMetadata": {
     "0": {
      "height": 213,
      "type": "dataFrame"
     }
    }
   },
   "outputs": [],
   "source": []
  },
  {
   "cell_type": "code",
   "execution_count": null,
   "metadata": {
    "executionCancelledAt": null,
    "executionTime": 328,
    "lastExecutedAt": 1709848316344,
    "lastScheduledRunId": null,
    "lastSuccessfullyExecutedCode": "csv_files = ['test_Demographics.csv', 'test_Laboratory_Findings.csv', 'test_Medical_History.csv', 'test_Vital_Signs.csv' ]\ndataframes = []\n\nfor file in csv_files:\n    df = pd.read_csv(file)\n    dataframes.append(df)\n    \n    \ntest_df = dataframes[0]\n    \nfor df in dataframes[1:]:\n    test_df = pd.merge(base_df, df, on='id', how='outer')\n    \ntest_df.head()\n",
    "outputsMetadata": {
     "0": {
      "height": 213,
      "type": "dataFrame"
     }
    }
   },
   "outputs": [],
   "source": []
  },
  {
   "cell_type": "code",
   "execution_count": 2,
   "metadata": {
    "executionCancelledAt": null,
    "executionTime": 72,
    "lastExecutedAt": 1709856804799,
    "lastScheduledRunId": null,
    "lastSuccessfullyExecutedCode": "train_Demographics = pd.read_csv('./train_Demographics[1].csv')\ntrain_Demographics.head() ",
    "outputsMetadata": {
     "0": {
      "height": 196,
      "type": "dataFrame"
     }
    }
   },
   "outputs": [
    {
     "data": {
      "text/html": [
       "<div>\n",
       "<style scoped>\n",
       "    .dataframe tbody tr th:only-of-type {\n",
       "        vertical-align: middle;\n",
       "    }\n",
       "\n",
       "    .dataframe tbody tr th {\n",
       "        vertical-align: top;\n",
       "    }\n",
       "\n",
       "    .dataframe thead th {\n",
       "        text-align: right;\n",
       "    }\n",
       "</style>\n",
       "<table border=\"1\" class=\"dataframe\">\n",
       "  <thead>\n",
       "    <tr style=\"text-align: right;\">\n",
       "      <th></th>\n",
       "      <th>id</th>\n",
       "      <th>age_yrs</th>\n",
       "      <th>ethnic_group</th>\n",
       "      <th>gender_identity</th>\n",
       "      <th>weight_kg</th>\n",
       "      <th>height_cm</th>\n",
       "      <th>body_mass_index</th>\n",
       "    </tr>\n",
       "  </thead>\n",
       "  <tbody>\n",
       "    <tr>\n",
       "      <th>0</th>\n",
       "      <td>246060.0</td>\n",
       "      <td>77.0</td>\n",
       "      <td>Caucasian</td>\n",
       "      <td>F</td>\n",
       "      <td>70.2</td>\n",
       "      <td>160.0</td>\n",
       "      <td>27.421875</td>\n",
       "    </tr>\n",
       "    <tr>\n",
       "      <th>1</th>\n",
       "      <td>276985.0</td>\n",
       "      <td>25.0</td>\n",
       "      <td>Caucasian</td>\n",
       "      <td>F</td>\n",
       "      <td>95.3</td>\n",
       "      <td>172.7</td>\n",
       "      <td>31.952749</td>\n",
       "    </tr>\n",
       "    <tr>\n",
       "      <th>2</th>\n",
       "      <td>262220.0</td>\n",
       "      <td>81.0</td>\n",
       "      <td>Caucasian</td>\n",
       "      <td>F</td>\n",
       "      <td>61.7</td>\n",
       "      <td>165.1</td>\n",
       "      <td>22.635548</td>\n",
       "    </tr>\n",
       "    <tr>\n",
       "      <th>3</th>\n",
       "      <td>201746.0</td>\n",
       "      <td>19.0</td>\n",
       "      <td>Caucasian</td>\n",
       "      <td>M</td>\n",
       "      <td>NaN</td>\n",
       "      <td>188.0</td>\n",
       "      <td>NaN</td>\n",
       "    </tr>\n",
       "    <tr>\n",
       "      <th>4</th>\n",
       "      <td>182697.0</td>\n",
       "      <td>67.0</td>\n",
       "      <td>Caucasian</td>\n",
       "      <td>M</td>\n",
       "      <td>100.0</td>\n",
       "      <td>190.5</td>\n",
       "      <td>27.555611</td>\n",
       "    </tr>\n",
       "  </tbody>\n",
       "</table>\n",
       "</div>"
      ],
      "text/plain": [
       "         id  age_yrs ethnic_group gender_identity  weight_kg  height_cm  \\\n",
       "0  246060.0     77.0    Caucasian               F       70.2      160.0   \n",
       "1  276985.0     25.0    Caucasian               F       95.3      172.7   \n",
       "2  262220.0     81.0    Caucasian               F       61.7      165.1   \n",
       "3  201746.0     19.0    Caucasian               M        NaN      188.0   \n",
       "4  182697.0     67.0    Caucasian               M      100.0      190.5   \n",
       "\n",
       "   body_mass_index  \n",
       "0        27.421875  \n",
       "1        31.952749  \n",
       "2        22.635548  \n",
       "3              NaN  \n",
       "4        27.555611  "
      ]
     },
     "execution_count": 2,
     "metadata": {},
     "output_type": "execute_result"
    }
   ],
   "source": [
    "train_Demographics = pd.read_csv('./data (1)/data/Training/train_Demographics.csv')\n",
    "train_Demographics.head() "
   ]
  },
  {
   "cell_type": "code",
   "execution_count": 3,
   "metadata": {
    "executionCancelledAt": null,
    "executionTime": null,
    "lastExecutedAt": null,
    "lastScheduledRunId": null,
    "lastSuccessfullyExecutedCode": null,
    "outputsMetadata": {
     "0": {
      "height": 213,
      "type": "dataFrame"
     },
     "1": {
      "height": 196,
      "type": "dataFrame"
     }
    }
   },
   "outputs": [
    {
     "data": {
      "text/html": [
       "<div>\n",
       "<style scoped>\n",
       "    .dataframe tbody tr th:only-of-type {\n",
       "        vertical-align: middle;\n",
       "    }\n",
       "\n",
       "    .dataframe tbody tr th {\n",
       "        vertical-align: top;\n",
       "    }\n",
       "\n",
       "    .dataframe thead th {\n",
       "        text-align: right;\n",
       "    }\n",
       "</style>\n",
       "<table border=\"1\" class=\"dataframe\">\n",
       "  <thead>\n",
       "    <tr style=\"text-align: right;\">\n",
       "      <th></th>\n",
       "      <th>id</th>\n",
       "      <th>age_yrs</th>\n",
       "      <th>ethnic_group</th>\n",
       "      <th>weight_kg</th>\n",
       "      <th>height_cm</th>\n",
       "      <th>body_mass_index</th>\n",
       "      <th>gender_identity_M</th>\n",
       "      <th>gender_identity_female</th>\n",
       "      <th>gender_identity_male</th>\n",
       "    </tr>\n",
       "  </thead>\n",
       "  <tbody>\n",
       "    <tr>\n",
       "      <th>0</th>\n",
       "      <td>246060.0</td>\n",
       "      <td>77.0</td>\n",
       "      <td>Caucasian</td>\n",
       "      <td>70.2</td>\n",
       "      <td>160.0</td>\n",
       "      <td>27.421875</td>\n",
       "      <td>0</td>\n",
       "      <td>0</td>\n",
       "      <td>0</td>\n",
       "    </tr>\n",
       "    <tr>\n",
       "      <th>1</th>\n",
       "      <td>276985.0</td>\n",
       "      <td>25.0</td>\n",
       "      <td>Caucasian</td>\n",
       "      <td>95.3</td>\n",
       "      <td>172.7</td>\n",
       "      <td>31.952749</td>\n",
       "      <td>0</td>\n",
       "      <td>0</td>\n",
       "      <td>0</td>\n",
       "    </tr>\n",
       "    <tr>\n",
       "      <th>2</th>\n",
       "      <td>262220.0</td>\n",
       "      <td>81.0</td>\n",
       "      <td>Caucasian</td>\n",
       "      <td>61.7</td>\n",
       "      <td>165.1</td>\n",
       "      <td>22.635548</td>\n",
       "      <td>0</td>\n",
       "      <td>0</td>\n",
       "      <td>0</td>\n",
       "    </tr>\n",
       "    <tr>\n",
       "      <th>3</th>\n",
       "      <td>201746.0</td>\n",
       "      <td>19.0</td>\n",
       "      <td>Caucasian</td>\n",
       "      <td>NaN</td>\n",
       "      <td>188.0</td>\n",
       "      <td>NaN</td>\n",
       "      <td>1</td>\n",
       "      <td>0</td>\n",
       "      <td>0</td>\n",
       "    </tr>\n",
       "    <tr>\n",
       "      <th>4</th>\n",
       "      <td>182697.0</td>\n",
       "      <td>67.0</td>\n",
       "      <td>Caucasian</td>\n",
       "      <td>100.0</td>\n",
       "      <td>190.5</td>\n",
       "      <td>27.555611</td>\n",
       "      <td>1</td>\n",
       "      <td>0</td>\n",
       "      <td>0</td>\n",
       "    </tr>\n",
       "  </tbody>\n",
       "</table>\n",
       "</div>"
      ],
      "text/plain": [
       "         id  age_yrs ethnic_group  weight_kg  height_cm  body_mass_index  \\\n",
       "0  246060.0     77.0    Caucasian       70.2      160.0        27.421875   \n",
       "1  276985.0     25.0    Caucasian       95.3      172.7        31.952749   \n",
       "2  262220.0     81.0    Caucasian       61.7      165.1        22.635548   \n",
       "3  201746.0     19.0    Caucasian        NaN      188.0              NaN   \n",
       "4  182697.0     67.0    Caucasian      100.0      190.5        27.555611   \n",
       "\n",
       "   gender_identity_M  gender_identity_female  gender_identity_male  \n",
       "0                  0                       0                     0  \n",
       "1                  0                       0                     0  \n",
       "2                  0                       0                     0  \n",
       "3                  1                       0                     0  \n",
       "4                  1                       0                     0  "
      ]
     },
     "execution_count": 3,
     "metadata": {},
     "output_type": "execute_result"
    }
   ],
   "source": [
    "# Convert 'gender_identity' to a numerical feature using pandas get_dummies\n",
    "# Assuming 'gender_identity_M' is derived from a 'gender_identity' column that no longer exists in the DataFrame\n",
    "# If 'gender_identity' exists and contains the original gender identities, use it to create numerical features\n",
    "\n",
    "# Check if 'gender_identity' exists in the DataFrame; if not, we assume 'gender_identity_M' is the binary representation\n",
    "if 'gender_identity' in train_Demographics.columns: \n",
    "    train_Demographics = pd.get_dummies(train_Demographics, columns=['gender_identity'], drop_first=True)\n",
    "else:\n",
    "    # Assuming 'gender_identity_M' is already the binary representation where 1 represents Male and 0 represents Female or Other\n",
    "    # No action needed if 'gender_identity_M' is the desired numerical feature\n",
    "    print(\"'gender_identity' column not found. 'gender_identity_M' is already a numerical feature representing Male.\")\n",
    "\n",
    "# Display the first few rows to verify the transformation\n",
    "train_Demographics.head()"
   ]
  },
  {
   "cell_type": "code",
   "execution_count": 4,
   "metadata": {
    "executionCancelledAt": null,
    "executionTime": 39,
    "lastExecutedAt": 1709857253202,
    "lastScheduledRunId": null,
    "lastSuccessfullyExecutedCode": "# missing values train_df\ntrain_Demographics.isnull().sum()\ncleaned_train_Demographics=train_Demographics.dropna()\ncleaned_train_Demographics.shape,train_Demographics.shape \n\n"
   },
   "outputs": [
    {
     "data": {
      "text/plain": [
       "((95651, 9), (104125, 9))"
      ]
     },
     "execution_count": 4,
     "metadata": {},
     "output_type": "execute_result"
    }
   ],
   "source": [
    "# missing values train_df\n",
    "train_Demographics.isnull().sum()\n",
    "cleaned_train_Demographics=train_Demographics.dropna()\n",
    "cleaned_train_Demographics.shape,train_Demographics.shape \n",
    "\n",
    "\n"
   ]
  },
  {
   "cell_type": "code",
   "execution_count": 5,
   "metadata": {
    "executionCancelledAt": null,
    "executionTime": null,
    "lastExecutedAt": null,
    "lastScheduledRunId": null,
    "lastSuccessfullyExecutedCode": null,
    "outputsMetadata": {
     "0": {
      "height": 213,
      "type": "dataFrame"
     }
    }
   },
   "outputs": [
    {
     "data": {
      "text/html": [
       "<div>\n",
       "<style scoped>\n",
       "    .dataframe tbody tr th:only-of-type {\n",
       "        vertical-align: middle;\n",
       "    }\n",
       "\n",
       "    .dataframe tbody tr th {\n",
       "        vertical-align: top;\n",
       "    }\n",
       "\n",
       "    .dataframe thead th {\n",
       "        text-align: right;\n",
       "    }\n",
       "</style>\n",
       "<table border=\"1\" class=\"dataframe\">\n",
       "  <thead>\n",
       "    <tr style=\"text-align: right;\">\n",
       "      <th></th>\n",
       "      <th>id</th>\n",
       "      <th>age_yrs</th>\n",
       "      <th>weight_kg</th>\n",
       "      <th>height_cm</th>\n",
       "      <th>body_mass_index</th>\n",
       "      <th>gender_identity_M</th>\n",
       "      <th>gender_identity_female</th>\n",
       "      <th>gender_identity_male</th>\n",
       "      <th>ethnic_group_African American</th>\n",
       "      <th>ethnic_group_Asian</th>\n",
       "      <th>ethnic_group_Caucasian</th>\n",
       "      <th>ethnic_group_Hipanic</th>\n",
       "      <th>ethnic_group_Hispanic</th>\n",
       "      <th>ethnic_group_Native American</th>\n",
       "      <th>ethnic_group_Other/Unknown</th>\n",
       "    </tr>\n",
       "  </thead>\n",
       "  <tbody>\n",
       "    <tr>\n",
       "      <th>0</th>\n",
       "      <td>246060.0</td>\n",
       "      <td>77.0</td>\n",
       "      <td>70.2</td>\n",
       "      <td>160.0</td>\n",
       "      <td>27.421875</td>\n",
       "      <td>0</td>\n",
       "      <td>0</td>\n",
       "      <td>0</td>\n",
       "      <td>0</td>\n",
       "      <td>0</td>\n",
       "      <td>1</td>\n",
       "      <td>0</td>\n",
       "      <td>0</td>\n",
       "      <td>0</td>\n",
       "      <td>0</td>\n",
       "    </tr>\n",
       "    <tr>\n",
       "      <th>1</th>\n",
       "      <td>276985.0</td>\n",
       "      <td>25.0</td>\n",
       "      <td>95.3</td>\n",
       "      <td>172.7</td>\n",
       "      <td>31.952749</td>\n",
       "      <td>0</td>\n",
       "      <td>0</td>\n",
       "      <td>0</td>\n",
       "      <td>0</td>\n",
       "      <td>0</td>\n",
       "      <td>1</td>\n",
       "      <td>0</td>\n",
       "      <td>0</td>\n",
       "      <td>0</td>\n",
       "      <td>0</td>\n",
       "    </tr>\n",
       "    <tr>\n",
       "      <th>2</th>\n",
       "      <td>262220.0</td>\n",
       "      <td>81.0</td>\n",
       "      <td>61.7</td>\n",
       "      <td>165.1</td>\n",
       "      <td>22.635548</td>\n",
       "      <td>0</td>\n",
       "      <td>0</td>\n",
       "      <td>0</td>\n",
       "      <td>0</td>\n",
       "      <td>0</td>\n",
       "      <td>1</td>\n",
       "      <td>0</td>\n",
       "      <td>0</td>\n",
       "      <td>0</td>\n",
       "      <td>0</td>\n",
       "    </tr>\n",
       "    <tr>\n",
       "      <th>3</th>\n",
       "      <td>201746.0</td>\n",
       "      <td>19.0</td>\n",
       "      <td>NaN</td>\n",
       "      <td>188.0</td>\n",
       "      <td>NaN</td>\n",
       "      <td>1</td>\n",
       "      <td>0</td>\n",
       "      <td>0</td>\n",
       "      <td>0</td>\n",
       "      <td>0</td>\n",
       "      <td>1</td>\n",
       "      <td>0</td>\n",
       "      <td>0</td>\n",
       "      <td>0</td>\n",
       "      <td>0</td>\n",
       "    </tr>\n",
       "    <tr>\n",
       "      <th>4</th>\n",
       "      <td>182697.0</td>\n",
       "      <td>67.0</td>\n",
       "      <td>100.0</td>\n",
       "      <td>190.5</td>\n",
       "      <td>27.555611</td>\n",
       "      <td>1</td>\n",
       "      <td>0</td>\n",
       "      <td>0</td>\n",
       "      <td>0</td>\n",
       "      <td>0</td>\n",
       "      <td>1</td>\n",
       "      <td>0</td>\n",
       "      <td>0</td>\n",
       "      <td>0</td>\n",
       "      <td>0</td>\n",
       "    </tr>\n",
       "  </tbody>\n",
       "</table>\n",
       "</div>"
      ],
      "text/plain": [
       "         id  age_yrs  weight_kg  height_cm  body_mass_index  \\\n",
       "0  246060.0     77.0       70.2      160.0        27.421875   \n",
       "1  276985.0     25.0       95.3      172.7        31.952749   \n",
       "2  262220.0     81.0       61.7      165.1        22.635548   \n",
       "3  201746.0     19.0        NaN      188.0              NaN   \n",
       "4  182697.0     67.0      100.0      190.5        27.555611   \n",
       "\n",
       "   gender_identity_M  gender_identity_female  gender_identity_male  \\\n",
       "0                  0                       0                     0   \n",
       "1                  0                       0                     0   \n",
       "2                  0                       0                     0   \n",
       "3                  1                       0                     0   \n",
       "4                  1                       0                     0   \n",
       "\n",
       "   ethnic_group_African American  ethnic_group_Asian  ethnic_group_Caucasian  \\\n",
       "0                              0                   0                       1   \n",
       "1                              0                   0                       1   \n",
       "2                              0                   0                       1   \n",
       "3                              0                   0                       1   \n",
       "4                              0                   0                       1   \n",
       "\n",
       "   ethnic_group_Hipanic  ethnic_group_Hispanic  ethnic_group_Native American  \\\n",
       "0                     0                      0                             0   \n",
       "1                     0                      0                             0   \n",
       "2                     0                      0                             0   \n",
       "3                     0                      0                             0   \n",
       "4                     0                      0                             0   \n",
       "\n",
       "   ethnic_group_Other/Unknown  \n",
       "0                           0  \n",
       "1                           0  \n",
       "2                           0  \n",
       "3                           0  \n",
       "4                           0  "
      ]
     },
     "execution_count": 5,
     "metadata": {},
     "output_type": "execute_result"
    }
   ],
   "source": [
    "# Convert 'ethnic_group' to a numerical feature using pandas get_dummies\n",
    "train_Demographics = pd.get_dummies(train_Demographics, columns=['ethnic_group'], drop_first=True)\n",
    "\n",
    "# Display the first few rows to verify the transformation\n",
    "train_Demographics.head()"
   ]
  },
  {
   "cell_type": "code",
   "execution_count": 6,
   "metadata": {
    "executionCancelledAt": null,
    "executionTime": 14,
    "lastExecutedAt": 1709858759237,
    "lastScheduledRunId": null,
    "lastSuccessfullyExecutedCode": "missing_rate = train_Demographics.isnull().sum() / len(train_Demographics)\nmissing_rate"
   },
   "outputs": [
    {
     "data": {
      "text/plain": [
       "id                               0.000000\n",
       "age_yrs                          0.038214\n",
       "weight_kg                        0.026766\n",
       "height_cm                        0.015712\n",
       "body_mass_index                  0.034430\n",
       "gender_identity_M                0.000000\n",
       "gender_identity_female           0.000000\n",
       "gender_identity_male             0.000000\n",
       "ethnic_group_African American    0.000000\n",
       "ethnic_group_Asian               0.000000\n",
       "ethnic_group_Caucasian           0.000000\n",
       "ethnic_group_Hipanic             0.000000\n",
       "ethnic_group_Hispanic            0.000000\n",
       "ethnic_group_Native American     0.000000\n",
       "ethnic_group_Other/Unknown       0.000000\n",
       "dtype: float64"
      ]
     },
     "execution_count": 6,
     "metadata": {},
     "output_type": "execute_result"
    }
   ],
   "source": [
    "missing_rate = train_Demographics.isnull().sum() / len(train_Demographics)\n",
    "missing_rate"
   ]
  },
  {
   "cell_type": "code",
   "execution_count": 7,
   "metadata": {
    "executionCancelledAt": null,
    "executionTime": 98,
    "lastExecutedAt": 1709858881898,
    "lastScheduledRunId": null,
    "lastSuccessfullyExecutedCode": "from sklearn.impute import SimpleImputer\n\n# Imputing missing values in 'train_Demographics' dataframe\nimputer = SimpleImputer(strategy='mean')\n\n# Columns to impute\ncolumns_to_impute = ['age_yrs', 'weight_kg', 'height_cm', 'body_mass_index']\n\n# Applying imputation\ntrain_Demographics[columns_to_impute] = imputer.fit_transform(train_Demographics[columns_to_impute])\n\n# Checking if there are any missing values left\ntrain_Demographics.isnull().sum()"
   },
   "outputs": [
    {
     "data": {
      "text/plain": [
       "id                               0\n",
       "age_yrs                          0\n",
       "weight_kg                        0\n",
       "height_cm                        0\n",
       "body_mass_index                  0\n",
       "gender_identity_M                0\n",
       "gender_identity_female           0\n",
       "gender_identity_male             0\n",
       "ethnic_group_African American    0\n",
       "ethnic_group_Asian               0\n",
       "ethnic_group_Caucasian           0\n",
       "ethnic_group_Hipanic             0\n",
       "ethnic_group_Hispanic            0\n",
       "ethnic_group_Native American     0\n",
       "ethnic_group_Other/Unknown       0\n",
       "dtype: int64"
      ]
     },
     "execution_count": 7,
     "metadata": {},
     "output_type": "execute_result"
    }
   ],
   "source": [
    "from sklearn.impute import SimpleImputer\n",
    "\n",
    "# Imputing missing values in 'train_Demographics' dataframe\n",
    "imputer = SimpleImputer(strategy='mean')\n",
    "\n",
    "# Columns to impute\n",
    "columns_to_impute = ['age_yrs', 'weight_kg', 'height_cm', 'body_mass_index']\n",
    "\n",
    "# Applying imputation\n",
    "train_Demographics[columns_to_impute] = imputer.fit_transform(train_Demographics[columns_to_impute])\n",
    "\n",
    "# Checking if there are any missing values left\n",
    "train_Demographics.isnull().sum()"
   ]
  },
  {
   "cell_type": "code",
   "execution_count": 8,
   "metadata": {
    "executionCancelledAt": null,
    "executionTime": 157,
    "lastExecutedAt": 1709859464644,
    "lastScheduledRunId": null,
    "lastSuccessfullyExecutedCode": "import pandas as pd\n\n# Reading the train_Laboratory_Findings.csv into train_Laboratory_Findings dataframe\ntrain_Laboratory_Findings = pd.read_csv('train_Laboratory_Findings.csv')\ntrain_Laboratory_Findings.head()\n",
    "outputsMetadata": {
     "0": {
      "height": 213,
      "type": "dataFrame"
     }
    }
   },
   "outputs": [
    {
     "data": {
      "text/html": [
       "<div>\n",
       "<style scoped>\n",
       "    .dataframe tbody tr th:only-of-type {\n",
       "        vertical-align: middle;\n",
       "    }\n",
       "\n",
       "    .dataframe tbody tr th {\n",
       "        vertical-align: top;\n",
       "    }\n",
       "\n",
       "    .dataframe thead th {\n",
       "        text-align: right;\n",
       "    }\n",
       "</style>\n",
       "<table border=\"1\" class=\"dataframe\">\n",
       "  <thead>\n",
       "    <tr style=\"text-align: right;\">\n",
       "      <th></th>\n",
       "      <th>id</th>\n",
       "      <th>OBS1_albumin_max</th>\n",
       "      <th>OBS1_albumin_min</th>\n",
       "      <th>OBS2_albumin_max</th>\n",
       "      <th>OBS2_albumin_min</th>\n",
       "      <th>OBS1_bilirubin_max</th>\n",
       "      <th>OBS1_bilirubin_min</th>\n",
       "      <th>OBS2_bilirubin_max</th>\n",
       "      <th>OBS2_bilirubin_min</th>\n",
       "      <th>OBS1_bun_max</th>\n",
       "      <th>...</th>\n",
       "      <th>OBS2_glucose_max</th>\n",
       "      <th>OBS2_glucose_min</th>\n",
       "      <th>OBS1_hematocrit_max</th>\n",
       "      <th>OBS1_hematocrit_min</th>\n",
       "      <th>OBS2_hematocrit_max</th>\n",
       "      <th>OBS2_hematocrit_min</th>\n",
       "      <th>OBS1_sodium_max</th>\n",
       "      <th>OBS1_sodium_min</th>\n",
       "      <th>OBS2_sodium_max</th>\n",
       "      <th>OBS2_sodium_min</th>\n",
       "    </tr>\n",
       "  </thead>\n",
       "  <tbody>\n",
       "    <tr>\n",
       "      <th>0</th>\n",
       "      <td>246060</td>\n",
       "      <td>1.6</td>\n",
       "      <td>1.6</td>\n",
       "      <td>NaN</td>\n",
       "      <td>NaN</td>\n",
       "      <td>0.5</td>\n",
       "      <td>0.5</td>\n",
       "      <td>NaN</td>\n",
       "      <td>NaN</td>\n",
       "      <td>11.0</td>\n",
       "      <td>...</td>\n",
       "      <td>145.0</td>\n",
       "      <td>143.0</td>\n",
       "      <td>36.9</td>\n",
       "      <td>36.1</td>\n",
       "      <td>36.9</td>\n",
       "      <td>36.9</td>\n",
       "      <td>145.0</td>\n",
       "      <td>145.0</td>\n",
       "      <td>145.0</td>\n",
       "      <td>145.0</td>\n",
       "    </tr>\n",
       "    <tr>\n",
       "      <th>1</th>\n",
       "      <td>276985</td>\n",
       "      <td>NaN</td>\n",
       "      <td>NaN</td>\n",
       "      <td>NaN</td>\n",
       "      <td>NaN</td>\n",
       "      <td>NaN</td>\n",
       "      <td>NaN</td>\n",
       "      <td>NaN</td>\n",
       "      <td>NaN</td>\n",
       "      <td>NaN</td>\n",
       "      <td>...</td>\n",
       "      <td>NaN</td>\n",
       "      <td>NaN</td>\n",
       "      <td>NaN</td>\n",
       "      <td>NaN</td>\n",
       "      <td>NaN</td>\n",
       "      <td>NaN</td>\n",
       "      <td>NaN</td>\n",
       "      <td>NaN</td>\n",
       "      <td>NaN</td>\n",
       "      <td>NaN</td>\n",
       "    </tr>\n",
       "    <tr>\n",
       "      <th>2</th>\n",
       "      <td>262220</td>\n",
       "      <td>NaN</td>\n",
       "      <td>NaN</td>\n",
       "      <td>NaN</td>\n",
       "      <td>NaN</td>\n",
       "      <td>NaN</td>\n",
       "      <td>NaN</td>\n",
       "      <td>NaN</td>\n",
       "      <td>NaN</td>\n",
       "      <td>NaN</td>\n",
       "      <td>...</td>\n",
       "      <td>NaN</td>\n",
       "      <td>NaN</td>\n",
       "      <td>34.0</td>\n",
       "      <td>25.9</td>\n",
       "      <td>34.0</td>\n",
       "      <td>34.0</td>\n",
       "      <td>NaN</td>\n",
       "      <td>NaN</td>\n",
       "      <td>NaN</td>\n",
       "      <td>NaN</td>\n",
       "    </tr>\n",
       "    <tr>\n",
       "      <th>3</th>\n",
       "      <td>201746</td>\n",
       "      <td>NaN</td>\n",
       "      <td>NaN</td>\n",
       "      <td>NaN</td>\n",
       "      <td>NaN</td>\n",
       "      <td>NaN</td>\n",
       "      <td>NaN</td>\n",
       "      <td>NaN</td>\n",
       "      <td>NaN</td>\n",
       "      <td>NaN</td>\n",
       "      <td>...</td>\n",
       "      <td>NaN</td>\n",
       "      <td>NaN</td>\n",
       "      <td>NaN</td>\n",
       "      <td>NaN</td>\n",
       "      <td>NaN</td>\n",
       "      <td>NaN</td>\n",
       "      <td>NaN</td>\n",
       "      <td>NaN</td>\n",
       "      <td>NaN</td>\n",
       "      <td>NaN</td>\n",
       "    </tr>\n",
       "    <tr>\n",
       "      <th>4</th>\n",
       "      <td>182697</td>\n",
       "      <td>NaN</td>\n",
       "      <td>NaN</td>\n",
       "      <td>NaN</td>\n",
       "      <td>NaN</td>\n",
       "      <td>NaN</td>\n",
       "      <td>NaN</td>\n",
       "      <td>NaN</td>\n",
       "      <td>NaN</td>\n",
       "      <td>13.0</td>\n",
       "      <td>...</td>\n",
       "      <td>NaN</td>\n",
       "      <td>NaN</td>\n",
       "      <td>44.2</td>\n",
       "      <td>44.2</td>\n",
       "      <td>NaN</td>\n",
       "      <td>NaN</td>\n",
       "      <td>137.0</td>\n",
       "      <td>137.0</td>\n",
       "      <td>NaN</td>\n",
       "      <td>NaN</td>\n",
       "    </tr>\n",
       "  </tbody>\n",
       "</table>\n",
       "<p>5 rows × 29 columns</p>\n",
       "</div>"
      ],
      "text/plain": [
       "       id  OBS1_albumin_max  OBS1_albumin_min  OBS2_albumin_max  \\\n",
       "0  246060               1.6               1.6               NaN   \n",
       "1  276985               NaN               NaN               NaN   \n",
       "2  262220               NaN               NaN               NaN   \n",
       "3  201746               NaN               NaN               NaN   \n",
       "4  182697               NaN               NaN               NaN   \n",
       "\n",
       "   OBS2_albumin_min  OBS1_bilirubin_max  OBS1_bilirubin_min  \\\n",
       "0               NaN                 0.5                 0.5   \n",
       "1               NaN                 NaN                 NaN   \n",
       "2               NaN                 NaN                 NaN   \n",
       "3               NaN                 NaN                 NaN   \n",
       "4               NaN                 NaN                 NaN   \n",
       "\n",
       "   OBS2_bilirubin_max  OBS2_bilirubin_min  OBS1_bun_max  ...  \\\n",
       "0                 NaN                 NaN          11.0  ...   \n",
       "1                 NaN                 NaN           NaN  ...   \n",
       "2                 NaN                 NaN           NaN  ...   \n",
       "3                 NaN                 NaN           NaN  ...   \n",
       "4                 NaN                 NaN          13.0  ...   \n",
       "\n",
       "   OBS2_glucose_max  OBS2_glucose_min  OBS1_hematocrit_max  \\\n",
       "0             145.0             143.0                 36.9   \n",
       "1               NaN               NaN                  NaN   \n",
       "2               NaN               NaN                 34.0   \n",
       "3               NaN               NaN                  NaN   \n",
       "4               NaN               NaN                 44.2   \n",
       "\n",
       "   OBS1_hematocrit_min  OBS2_hematocrit_max  OBS2_hematocrit_min  \\\n",
       "0                 36.1                 36.9                 36.9   \n",
       "1                  NaN                  NaN                  NaN   \n",
       "2                 25.9                 34.0                 34.0   \n",
       "3                  NaN                  NaN                  NaN   \n",
       "4                 44.2                  NaN                  NaN   \n",
       "\n",
       "   OBS1_sodium_max  OBS1_sodium_min  OBS2_sodium_max  OBS2_sodium_min  \n",
       "0            145.0            145.0            145.0            145.0  \n",
       "1              NaN              NaN              NaN              NaN  \n",
       "2              NaN              NaN              NaN              NaN  \n",
       "3              NaN              NaN              NaN              NaN  \n",
       "4            137.0            137.0              NaN              NaN  \n",
       "\n",
       "[5 rows x 29 columns]"
      ]
     },
     "execution_count": 8,
     "metadata": {},
     "output_type": "execute_result"
    }
   ],
   "source": [
    "import pandas as pd\n",
    "\n",
    "# Reading the train_Laboratory_Findings.csv into train_Laboratory_Findings dataframe\n",
    "train_Laboratory_Findings = pd.read_csv('./data (1)/data/Training/train_Laboratory_Findings.csv')\n",
    "train_Laboratory_Findings.head()\n"
   ]
  },
  {
   "cell_type": "code",
   "execution_count": 9,
   "metadata": {
    "executionCancelledAt": null,
    "executionTime": 79,
    "lastExecutedAt": 1709861669553,
    "lastScheduledRunId": null,
    "lastSuccessfullyExecutedCode": "from sklearn.impute import SimpleImputer\n\n# Creating an imputer object with a strategy of mean to fill in the missing values\nimputer_lab_findings = SimpleImputer(strategy='mean')\n\n# Fitting the imputer to the train_Laboratory_Findings dataframe and transforming it (filling missing values)\ntrain_Laboratory_Findings_filled = pd.DataFrame(imputer_lab_findings.fit_transform(train_Laboratory_Findings), columns=train_Laboratory_Findings.columns)\n\n# Checking if there are any missing values left\ntrain_Laboratory_Findings_filled.isnull().sum()"
   },
   "outputs": [
    {
     "data": {
      "text/plain": [
       "id                     0\n",
       "OBS1_albumin_max       0\n",
       "OBS1_albumin_min       0\n",
       "OBS2_albumin_max       0\n",
       "OBS2_albumin_min       0\n",
       "OBS1_bilirubin_max     0\n",
       "OBS1_bilirubin_min     0\n",
       "OBS2_bilirubin_max     0\n",
       "OBS2_bilirubin_min     0\n",
       "OBS1_bun_max           0\n",
       "OBS1_bun_min           0\n",
       "OBS2_bun_max           0\n",
       "OBS2_bun_min           0\n",
       "OBS1_creatinine_max    0\n",
       "OBS1_creatinine_min    0\n",
       "OBS2_creatinine_max    0\n",
       "OBS2_creatinine_min    0\n",
       "OBS1_glucose_max       0\n",
       "OBS1_glucose_min       0\n",
       "OBS2_glucose_max       0\n",
       "OBS2_glucose_min       0\n",
       "OBS1_hematocrit_max    0\n",
       "OBS1_hematocrit_min    0\n",
       "OBS2_hematocrit_max    0\n",
       "OBS2_hematocrit_min    0\n",
       "OBS1_sodium_max        0\n",
       "OBS1_sodium_min        0\n",
       "OBS2_sodium_max        0\n",
       "OBS2_sodium_min        0\n",
       "dtype: int64"
      ]
     },
     "execution_count": 9,
     "metadata": {},
     "output_type": "execute_result"
    }
   ],
   "source": [
    "from sklearn.impute import SimpleImputer\n",
    "\n",
    "# Creating an imputer object with a strategy of mean to fill in the missing values\n",
    "imputer_lab_findings = SimpleImputer(strategy='mean')\n",
    "\n",
    "# Fitting the imputer to the train_Laboratory_Findings dataframe and transforming it (filling missing values)\n",
    "train_Laboratory_Findings_filled = pd.DataFrame(imputer_lab_findings.fit_transform(train_Laboratory_Findings), columns=train_Laboratory_Findings.columns)\n",
    "\n",
    "# Checking if there are any missing values left\n",
    "train_Laboratory_Findings_filled.isnull().sum() "
   ]
  },
  {
   "cell_type": "code",
   "execution_count": 10,
   "metadata": {
    "executionCancelledAt": null,
    "executionTime": 186,
    "lastExecutedAt": 1709861710187,
    "lastScheduledRunId": null,
    "lastSuccessfullyExecutedCode": "import seaborn as sns\nimport matplotlib.pyplot as plt\n\n# Plotting the distribution of OBS2_albumin_min\nsns.distplot(train_Laboratory_Findings['OBS2_albumin_min'].dropna(), kde=True, bins=30)\nplt.title('Distribution of OBS2_albumin_min')\nplt.xlabel('OBS2_albumin_min')\nplt.ylabel('Density')\nplt.show()"
   },
   "outputs": [
    {
     "data": {
      "image/png": "[encoded data removed]",
      "text/plain": [
       "<Figure size 432x288 with 1 Axes>"
      ]
     },
     "metadata": {
      "needs_background": "light"
     },
     "output_type": "display_data"
    }
   ],
   "source": [
    "import seaborn as sns\n",
    "import matplotlib.pyplot as plt\n",
    "\n",
    "# Plotting the distribution of OBS2_albumin_min\n",
    "sns.distplot(train_Laboratory_Findings['OBS2_albumin_min'].dropna(), kde=True, bins=30)\n",
    "plt.title('Distribution of OBS2_albumin_min')\n",
    "plt.xlabel('OBS2_albumin_min')\n",
    "plt.ylabel('Density')\n",
    "plt.show()"
   ]
  },
  {
   "cell_type": "code",
   "execution_count": 11,
   "metadata": {
    "executionCancelledAt": null,
    "executionTime": 87,
    "lastExecutedAt": 1709861721427,
    "lastScheduledRunId": null,
    "lastSuccessfullyExecutedCode": "# Checking for outliers in each column of the train_Laboratory_Findings dataframe\n# Outliers are checked using the IQR method\n\nQ1 = train_Laboratory_Findings.quantile(0.25)\nQ3 = train_Laboratory_Findings.quantile(0.75)\nIQR = Q3 - Q1\n\n# Calculating the number of outliers in each column\noutliers_count = ((train_Laboratory_Findings < (Q1 - 1.5 * IQR)) | (train_Laboratory_Findings > (Q3 + 1.5 * IQR))).sum()\n\n# Displaying the number of outliers in each column\noutliers_count"
   },
   "outputs": [
    {
     "data": {
      "text/plain": [
       "id                         0\n",
       "OBS1_albumin_max           0\n",
       "OBS1_albumin_min           0\n",
       "OBS2_albumin_max           0\n",
       "OBS2_albumin_min           0\n",
       "OBS1_bilirubin_max      4067\n",
       "OBS1_bilirubin_min      4152\n",
       "OBS2_bilirubin_max       768\n",
       "OBS2_bilirubin_min       766\n",
       "OBS1_bun_max            7025\n",
       "OBS1_bun_min            6829\n",
       "OBS2_bun_max            1762\n",
       "OBS2_bun_min            1757\n",
       "OBS1_creatinine_max    10124\n",
       "OBS1_creatinine_min     9606\n",
       "OBS2_creatinine_max     2242\n",
       "OBS2_creatinine_min     2238\n",
       "OBS1_glucose_max        6034\n",
       "OBS1_glucose_min        4289\n",
       "OBS2_glucose_max        3496\n",
       "OBS2_glucose_min        3414\n",
       "OBS1_hematocrit_max        0\n",
       "OBS1_hematocrit_min        0\n",
       "OBS2_hematocrit_max        0\n",
       "OBS2_hematocrit_min        0\n",
       "OBS1_sodium_max         2559\n",
       "OBS1_sodium_min         2670\n",
       "OBS2_sodium_max         1670\n",
       "OBS2_sodium_min          976\n",
       "dtype: int64"
      ]
     },
     "execution_count": 11,
     "metadata": {},
     "output_type": "execute_result"
    }
   ],
   "source": [
    "# Checking for outliers in each column of the train_Laboratory_Findings dataframe\n",
    "# Outliers are checked using the IQR method\n",
    "\n",
    "Q1 = train_Laboratory_Findings.quantile(0.25)\n",
    "Q3 = train_Laboratory_Findings.quantile(0.75)\n",
    "IQR = Q3 - Q1\n",
    "\n",
    "# Calculating the number of outliers in each column\n",
    "outliers_count = ((train_Laboratory_Findings < (Q1 - 1.5 * IQR)) | (train_Laboratory_Findings > (Q3 + 1.5 * IQR))).sum()\n",
    "\n",
    "# Displaying the number of outliers in each column\n",
    "outliers_count"
   ]
  },
  {
   "cell_type": "code",
   "execution_count": 12,
   "metadata": {
    "executionCancelledAt": null,
    "executionTime": null,
    "lastExecutedAt": null,
    "lastScheduledRunId": null,
    "lastSuccessfullyExecutedCode": null,
    "outputsMetadata": {
     "0": {
      "height": 213,
      "type": "dataFrame"
     }
    }
   },
   "outputs": [
    {
     "data": {
      "text/html": [
       "<div>\n",
       "<style scoped>\n",
       "    .dataframe tbody tr th:only-of-type {\n",
       "        vertical-align: middle;\n",
       "    }\n",
       "\n",
       "    .dataframe tbody tr th {\n",
       "        vertical-align: top;\n",
       "    }\n",
       "\n",
       "    .dataframe thead th {\n",
       "        text-align: right;\n",
       "    }\n",
       "</style>\n",
       "<table border=\"1\" class=\"dataframe\">\n",
       "  <thead>\n",
       "    <tr style=\"text-align: right;\">\n",
       "      <th></th>\n",
       "      <th>id</th>\n",
       "      <th>OBS1_albumin_max</th>\n",
       "      <th>OBS1_albumin_min</th>\n",
       "      <th>OBS2_albumin_max</th>\n",
       "      <th>OBS2_albumin_min</th>\n",
       "      <th>OBS1_bilirubin_max</th>\n",
       "      <th>OBS1_bilirubin_min</th>\n",
       "      <th>OBS2_bilirubin_max</th>\n",
       "      <th>OBS2_bilirubin_min</th>\n",
       "      <th>OBS1_bun_max</th>\n",
       "      <th>...</th>\n",
       "      <th>OBS2_glucose_max</th>\n",
       "      <th>OBS2_glucose_min</th>\n",
       "      <th>OBS1_hematocrit_max</th>\n",
       "      <th>OBS1_hematocrit_min</th>\n",
       "      <th>OBS2_hematocrit_max</th>\n",
       "      <th>OBS2_hematocrit_min</th>\n",
       "      <th>OBS1_sodium_max</th>\n",
       "      <th>OBS1_sodium_min</th>\n",
       "      <th>OBS2_sodium_max</th>\n",
       "      <th>OBS2_sodium_min</th>\n",
       "    </tr>\n",
       "  </thead>\n",
       "  <tbody>\n",
       "    <tr>\n",
       "      <th>0</th>\n",
       "      <td>246060</td>\n",
       "      <td>1.6</td>\n",
       "      <td>1.6</td>\n",
       "      <td>NaN</td>\n",
       "      <td>NaN</td>\n",
       "      <td>0.5</td>\n",
       "      <td>0.5</td>\n",
       "      <td>NaN</td>\n",
       "      <td>NaN</td>\n",
       "      <td>11.0</td>\n",
       "      <td>...</td>\n",
       "      <td>145.0</td>\n",
       "      <td>143.0</td>\n",
       "      <td>36.9</td>\n",
       "      <td>36.1</td>\n",
       "      <td>36.9</td>\n",
       "      <td>36.9</td>\n",
       "      <td>145.0</td>\n",
       "      <td>145.0</td>\n",
       "      <td>145.0</td>\n",
       "      <td>145.0</td>\n",
       "    </tr>\n",
       "    <tr>\n",
       "      <th>1</th>\n",
       "      <td>276985</td>\n",
       "      <td>NaN</td>\n",
       "      <td>NaN</td>\n",
       "      <td>NaN</td>\n",
       "      <td>NaN</td>\n",
       "      <td>NaN</td>\n",
       "      <td>NaN</td>\n",
       "      <td>NaN</td>\n",
       "      <td>NaN</td>\n",
       "      <td>NaN</td>\n",
       "      <td>...</td>\n",
       "      <td>NaN</td>\n",
       "      <td>NaN</td>\n",
       "      <td>NaN</td>\n",
       "      <td>NaN</td>\n",
       "      <td>NaN</td>\n",
       "      <td>NaN</td>\n",
       "      <td>NaN</td>\n",
       "      <td>NaN</td>\n",
       "      <td>NaN</td>\n",
       "      <td>NaN</td>\n",
       "    </tr>\n",
       "    <tr>\n",
       "      <th>2</th>\n",
       "      <td>262220</td>\n",
       "      <td>NaN</td>\n",
       "      <td>NaN</td>\n",
       "      <td>NaN</td>\n",
       "      <td>NaN</td>\n",
       "      <td>NaN</td>\n",
       "      <td>NaN</td>\n",
       "      <td>NaN</td>\n",
       "      <td>NaN</td>\n",
       "      <td>NaN</td>\n",
       "      <td>...</td>\n",
       "      <td>NaN</td>\n",
       "      <td>NaN</td>\n",
       "      <td>34.0</td>\n",
       "      <td>25.9</td>\n",
       "      <td>34.0</td>\n",
       "      <td>34.0</td>\n",
       "      <td>NaN</td>\n",
       "      <td>NaN</td>\n",
       "      <td>NaN</td>\n",
       "      <td>NaN</td>\n",
       "    </tr>\n",
       "    <tr>\n",
       "      <th>3</th>\n",
       "      <td>201746</td>\n",
       "      <td>NaN</td>\n",
       "      <td>NaN</td>\n",
       "      <td>NaN</td>\n",
       "      <td>NaN</td>\n",
       "      <td>NaN</td>\n",
       "      <td>NaN</td>\n",
       "      <td>NaN</td>\n",
       "      <td>NaN</td>\n",
       "      <td>NaN</td>\n",
       "      <td>...</td>\n",
       "      <td>NaN</td>\n",
       "      <td>NaN</td>\n",
       "      <td>NaN</td>\n",
       "      <td>NaN</td>\n",
       "      <td>NaN</td>\n",
       "      <td>NaN</td>\n",
       "      <td>NaN</td>\n",
       "      <td>NaN</td>\n",
       "      <td>NaN</td>\n",
       "      <td>NaN</td>\n",
       "    </tr>\n",
       "    <tr>\n",
       "      <th>4</th>\n",
       "      <td>182697</td>\n",
       "      <td>NaN</td>\n",
       "      <td>NaN</td>\n",
       "      <td>NaN</td>\n",
       "      <td>NaN</td>\n",
       "      <td>NaN</td>\n",
       "      <td>NaN</td>\n",
       "      <td>NaN</td>\n",
       "      <td>NaN</td>\n",
       "      <td>13.0</td>\n",
       "      <td>...</td>\n",
       "      <td>NaN</td>\n",
       "      <td>NaN</td>\n",
       "      <td>44.2</td>\n",
       "      <td>44.2</td>\n",
       "      <td>NaN</td>\n",
       "      <td>NaN</td>\n",
       "      <td>137.0</td>\n",
       "      <td>137.0</td>\n",
       "      <td>NaN</td>\n",
       "      <td>NaN</td>\n",
       "    </tr>\n",
       "  </tbody>\n",
       "</table>\n",
       "<p>5 rows × 29 columns</p>\n",
       "</div>"
      ],
      "text/plain": [
       "       id  OBS1_albumin_max  OBS1_albumin_min  OBS2_albumin_max  \\\n",
       "0  246060               1.6               1.6               NaN   \n",
       "1  276985               NaN               NaN               NaN   \n",
       "2  262220               NaN               NaN               NaN   \n",
       "3  201746               NaN               NaN               NaN   \n",
       "4  182697               NaN               NaN               NaN   \n",
       "\n",
       "   OBS2_albumin_min  OBS1_bilirubin_max  OBS1_bilirubin_min  \\\n",
       "0               NaN                 0.5                 0.5   \n",
       "1               NaN                 NaN                 NaN   \n",
       "2               NaN                 NaN                 NaN   \n",
       "3               NaN                 NaN                 NaN   \n",
       "4               NaN                 NaN                 NaN   \n",
       "\n",
       "   OBS2_bilirubin_max  OBS2_bilirubin_min  OBS1_bun_max  ...  \\\n",
       "0                 NaN                 NaN          11.0  ...   \n",
       "1                 NaN                 NaN           NaN  ...   \n",
       "2                 NaN                 NaN           NaN  ...   \n",
       "3                 NaN                 NaN           NaN  ...   \n",
       "4                 NaN                 NaN          13.0  ...   \n",
       "\n",
       "   OBS2_glucose_max  OBS2_glucose_min  OBS1_hematocrit_max  \\\n",
       "0             145.0             143.0                 36.9   \n",
       "1               NaN               NaN                  NaN   \n",
       "2               NaN               NaN                 34.0   \n",
       "3               NaN               NaN                  NaN   \n",
       "4               NaN               NaN                 44.2   \n",
       "\n",
       "   OBS1_hematocrit_min  OBS2_hematocrit_max  OBS2_hematocrit_min  \\\n",
       "0                 36.1                 36.9                 36.9   \n",
       "1                  NaN                  NaN                  NaN   \n",
       "2                 25.9                 34.0                 34.0   \n",
       "3                  NaN                  NaN                  NaN   \n",
       "4                 44.2                  NaN                  NaN   \n",
       "\n",
       "   OBS1_sodium_max  OBS1_sodium_min  OBS2_sodium_max  OBS2_sodium_min  \n",
       "0            145.0            145.0            145.0            145.0  \n",
       "1              NaN              NaN              NaN              NaN  \n",
       "2              NaN              NaN              NaN              NaN  \n",
       "3              NaN              NaN              NaN              NaN  \n",
       "4            137.0            137.0              NaN              NaN  \n",
       "\n",
       "[5 rows x 29 columns]"
      ]
     },
     "execution_count": 12,
     "metadata": {},
     "output_type": "execute_result"
    }
   ],
   "source": [
    "# Dropping outliers for each column in the train_Laboratory_Findings dataframe using the IQR method\n",
    "\n",
    "# Calculating Q1, Q3, and IQR for each column\n",
    "Q1 = train_Laboratory_Findings.quantile(0.25)\n",
    "Q3 = train_Laboratory_Findings.quantile(0.75)\n",
    "IQR = Q3 - Q1\n",
    "\n",
    "# Dropping outliers from each column individually\n",
    "for column in train_Laboratory_Findings.columns:\n",
    "    # Finding the indices of outliers for each column\n",
    "    outliers_indices = train_Laboratory_Findings[(train_Laboratory_Findings[column] < (Q1[column] - 1.5 * IQR[column])) | (train_Laboratory_Findings[column] > (Q3[column] + 1.5 * IQR[column]))].index\n",
    "    # Dropping the outliers based on indices\n",
    "    train_Laboratory_Findings = train_Laboratory_Findings.drop(outliers_indices)\n",
    "\n",
    "# Displaying the first few rows of the dataframe after dropping outliers from each column\n",
    "train_Laboratory_Findings.head()"
   ]
  },
  {
   "cell_type": "code",
   "execution_count": 13,
   "metadata": {
    "executionCancelledAt": null,
    "executionTime": 15,
    "lastExecutedAt": 1709862090720,
    "lastScheduledRunId": null,
    "lastSuccessfullyExecutedCode": "# Assuming train_Laboratory_Findings_cleaned is the dataframe after dropping outliers\n# Calculating the missing value rate for each column in the cleaned data\nmissing_value_rate_cleaned = train_Laboratory_Findings.isnull().mean() * 100\n\n# Displaying the missing value rate for each column in the cleaned dataframe\nmissing_value_rate_cleaned"
   },
   "outputs": [
    {
     "data": {
      "text/plain": [
       "id                      0.000000\n",
       "OBS1_albumin_max       60.726961\n",
       "OBS1_albumin_min       60.726961\n",
       "OBS2_albumin_max       92.908483\n",
       "OBS2_albumin_min       92.908483\n",
       "OBS1_bilirubin_max     64.222111\n",
       "OBS1_bilirubin_min     64.222111\n",
       "OBS2_bilirubin_max     93.436343\n",
       "OBS2_bilirubin_min     93.436343\n",
       "OBS1_bun_max           13.331027\n",
       "OBS1_bun_min           13.331027\n",
       "OBS2_bun_max           82.608807\n",
       "OBS2_bun_min           82.608807\n",
       "OBS1_creatinine_max    12.859541\n",
       "OBS1_creatinine_min    12.859541\n",
       "OBS2_creatinine_max    82.452499\n",
       "OBS2_creatinine_min    82.452499\n",
       "OBS1_glucose_max        8.377856\n",
       "OBS1_glucose_min        8.377856\n",
       "OBS2_glucose_max       61.256102\n",
       "OBS2_glucose_min       61.256102\n",
       "OBS1_hematocrit_max    13.478367\n",
       "OBS1_hematocrit_min    13.478367\n",
       "OBS2_hematocrit_max    79.363493\n",
       "OBS2_hematocrit_min    79.363493\n",
       "OBS1_sodium_max        12.963319\n",
       "OBS1_sodium_min        12.963319\n",
       "OBS2_sodium_max        80.264186\n",
       "OBS2_sodium_min        80.264186\n",
       "dtype: float64"
      ]
     },
     "execution_count": 13,
     "metadata": {},
     "output_type": "execute_result"
    }
   ],
   "source": [
    "# Assuming train_Laboratory_Findings_cleaned is the dataframe after dropping outliers\n",
    "# Calculating the missing value rate for each column in the cleaned data\n",
    "missing_value_rate_cleaned = train_Laboratory_Findings.isnull().mean() * 100\n",
    "\n",
    "# Displaying the missing value rate for each column in the cleaned dataframe\n",
    "missing_value_rate_cleaned"
   ]
  },
  {
   "cell_type": "code",
   "execution_count": 14,
   "metadata": {
    "executionCancelledAt": null,
    "executionTime": 284,
    "lastExecutedAt": 1709863063795,
    "lastScheduledRunId": null,
    "lastSuccessfullyExecutedCode": "import seaborn as sns\nimport matplotlib.pyplot as plt\n\n# Plotting the distribution of the \"OBS2_bun_min\" feature\nsns.distplot(train_Laboratory_Findings[\"OBS2_bun_min\"].dropna(), kde=True, bins=30)\nplt.title('Distribution of OBS2_bun_min')\nplt.xlabel('OBS2_bun_min')\nplt.ylabel('Density')\nplt.show()"
   },
   "outputs": [
    {
     "data": {
      "image/png": "[encoded data removed]",
      "text/plain": [
       "<Figure size 432x288 with 1 Axes>"
      ]
     },
     "metadata": {
      "needs_background": "light"
     },
     "output_type": "display_data"
    }
   ],
   "source": [
    "import seaborn as sns\n",
    "import matplotlib.pyplot as plt\n",
    "\n",
    "# Plotting the distribution of the \"OBS2_bun_min\" feature\n",
    "sns.distplot(train_Laboratory_Findings[\"OBS2_bun_min\"].dropna(), kde=True, bins=30)\n",
    "plt.title('Distribution of OBS2_bun_min')\n",
    "plt.xlabel('OBS2_bun_min')\n",
    "plt.ylabel('Density')\n",
    "plt.show()"
   ]
  },
  {
   "cell_type": "code",
   "execution_count": 15,
   "metadata": {
    "executionCancelledAt": null,
    "executionTime": 39,
    "lastExecutedAt": 1709863154737,
    "lastScheduledRunId": null,
    "lastSuccessfullyExecutedCode": "# Imputing missing values with the mean for each column in the dataframe\ntrain_Laboratory_Findings.fillna(train_Laboratory_Findings.mean(), inplace=True)"
   },
   "outputs": [],
   "source": [
    "# Imputing missing values with the mean for each column in the dataframe\n",
    "train_Laboratory_Findings.fillna(train_Laboratory_Findings.mean(), inplace=True)"
   ]
  },
  {
   "cell_type": "code",
   "execution_count": 16,
   "metadata": {
    "executionCancelledAt": null,
    "executionTime": 15,
    "lastExecutedAt": 1709863224778,
    "lastScheduledRunId": null,
    "lastSuccessfullyExecutedCode": "train_Laboratory_Findings.isnull().sum()"
   },
   "outputs": [
    {
     "data": {
      "text/plain": [
       "id                     0\n",
       "OBS1_albumin_max       0\n",
       "OBS1_albumin_min       0\n",
       "OBS2_albumin_max       0\n",
       "OBS2_albumin_min       0\n",
       "OBS1_bilirubin_max     0\n",
       "OBS1_bilirubin_min     0\n",
       "OBS2_bilirubin_max     0\n",
       "OBS2_bilirubin_min     0\n",
       "OBS1_bun_max           0\n",
       "OBS1_bun_min           0\n",
       "OBS2_bun_max           0\n",
       "OBS2_bun_min           0\n",
       "OBS1_creatinine_max    0\n",
       "OBS1_creatinine_min    0\n",
       "OBS2_creatinine_max    0\n",
       "OBS2_creatinine_min    0\n",
       "OBS1_glucose_max       0\n",
       "OBS1_glucose_min       0\n",
       "OBS2_glucose_max       0\n",
       "OBS2_glucose_min       0\n",
       "OBS1_hematocrit_max    0\n",
       "OBS1_hematocrit_min    0\n",
       "OBS2_hematocrit_max    0\n",
       "OBS2_hematocrit_min    0\n",
       "OBS1_sodium_max        0\n",
       "OBS1_sodium_min        0\n",
       "OBS2_sodium_max        0\n",
       "OBS2_sodium_min        0\n",
       "dtype: int64"
      ]
     },
     "execution_count": 16,
     "metadata": {},
     "output_type": "execute_result"
    }
   ],
   "source": [
    "train_Laboratory_Findings.isnull().sum()"
   ]
  },
  {
   "cell_type": "code",
   "execution_count": 17,
   "metadata": {
    "executionCancelledAt": null,
    "executionTime": 63,
    "lastExecutedAt": 1709863416636,
    "lastScheduledRunId": null,
    "lastSuccessfullyExecutedCode": "import pandas as pd\n\n# Reading the train_Medical_History.csv file into train_Medical_History dataframe\ntrain_Medical_History = pd.read_csv('train_Medical_History.csv')\ntrain_Medical_History.head()",
    "outputsMetadata": {
     "0": {
      "height": 213,
      "type": "dataFrame"
     }
    }
   },
   "outputs": [
    {
     "data": {
      "text/html": [
       "<div>\n",
       "<style scoped>\n",
       "    .dataframe tbody tr th:only-of-type {\n",
       "        vertical-align: middle;\n",
       "    }\n",
       "\n",
       "    .dataframe tbody tr th {\n",
       "        vertical-align: top;\n",
       "    }\n",
       "\n",
       "    .dataframe thead th {\n",
       "        text-align: right;\n",
       "    }\n",
       "</style>\n",
       "<table border=\"1\" class=\"dataframe\">\n",
       "  <thead>\n",
       "    <tr style=\"text-align: right;\">\n",
       "      <th></th>\n",
       "      <th>id</th>\n",
       "      <th>hiv_aids_status</th>\n",
       "      <th>chronic_liver_disease</th>\n",
       "      <th>liver_function_impaired</th>\n",
       "      <th>immune_compromise</th>\n",
       "      <th>blood_cancer</th>\n",
       "      <th>lymphatic_cancer</th>\n",
       "      <th>advanced_solid_tumor</th>\n",
       "    </tr>\n",
       "  </thead>\n",
       "  <tbody>\n",
       "    <tr>\n",
       "      <th>0</th>\n",
       "      <td>246060.0</td>\n",
       "      <td>0.0</td>\n",
       "      <td>0.0</td>\n",
       "      <td>0</td>\n",
       "      <td>0.0</td>\n",
       "      <td>0.0</td>\n",
       "      <td>0.0</td>\n",
       "      <td>0.0</td>\n",
       "    </tr>\n",
       "    <tr>\n",
       "      <th>1</th>\n",
       "      <td>276985.0</td>\n",
       "      <td>0.0</td>\n",
       "      <td>0.0</td>\n",
       "      <td>0</td>\n",
       "      <td>0.0</td>\n",
       "      <td>0.0</td>\n",
       "      <td>0.0</td>\n",
       "      <td>0.0</td>\n",
       "    </tr>\n",
       "    <tr>\n",
       "      <th>2</th>\n",
       "      <td>262220.0</td>\n",
       "      <td>0.0</td>\n",
       "      <td>0.0</td>\n",
       "      <td>0</td>\n",
       "      <td>0.0</td>\n",
       "      <td>0.0</td>\n",
       "      <td>0.0</td>\n",
       "      <td>0.0</td>\n",
       "    </tr>\n",
       "    <tr>\n",
       "      <th>3</th>\n",
       "      <td>201746.0</td>\n",
       "      <td>0.0</td>\n",
       "      <td>0.0</td>\n",
       "      <td>0</td>\n",
       "      <td>0.0</td>\n",
       "      <td>0.0</td>\n",
       "      <td>0.0</td>\n",
       "      <td>0.0</td>\n",
       "    </tr>\n",
       "    <tr>\n",
       "      <th>4</th>\n",
       "      <td>182697.0</td>\n",
       "      <td>0.0</td>\n",
       "      <td>0.0</td>\n",
       "      <td>0</td>\n",
       "      <td>0.0</td>\n",
       "      <td>0.0</td>\n",
       "      <td>0.0</td>\n",
       "      <td>0.0</td>\n",
       "    </tr>\n",
       "  </tbody>\n",
       "</table>\n",
       "</div>"
      ],
      "text/plain": [
       "         id  hiv_aids_status  chronic_liver_disease liver_function_impaired  \\\n",
       "0  246060.0              0.0                    0.0                       0   \n",
       "1  276985.0              0.0                    0.0                       0   \n",
       "2  262220.0              0.0                    0.0                       0   \n",
       "3  201746.0              0.0                    0.0                       0   \n",
       "4  182697.0              0.0                    0.0                       0   \n",
       "\n",
       "   immune_compromise  blood_cancer  lymphatic_cancer  advanced_solid_tumor  \n",
       "0                0.0           0.0               0.0                   0.0  \n",
       "1                0.0           0.0               0.0                   0.0  \n",
       "2                0.0           0.0               0.0                   0.0  \n",
       "3                0.0           0.0               0.0                   0.0  \n",
       "4                0.0           0.0               0.0                   0.0  "
      ]
     },
     "execution_count": 17,
     "metadata": {},
     "output_type": "execute_result"
    }
   ],
   "source": [
    "import pandas as pd\n",
    "\n",
    "# Reading the train_Medical_History.csv file into train_Medical_History dataframe\n",
    "train_Medical_History = pd.read_csv('./data (1)/data/Training/train_Medical_History.csv')\n",
    "train_Medical_History.head()"
   ]
  },
  {
   "cell_type": "code",
   "execution_count": 18,
   "metadata": {
    "executionCancelledAt": null,
    "executionTime": 28,
    "lastExecutedAt": 1709863502182,
    "lastScheduledRunId": null,
    "lastSuccessfullyExecutedCode": "train_Medical_History.isnull().sum()\n"
   },
   "outputs": [
    {
     "data": {
      "text/plain": [
       "id                         0\n",
       "hiv_aids_status            0\n",
       "chronic_liver_disease      0\n",
       "liver_function_impaired    0\n",
       "immune_compromise          0\n",
       "blood_cancer               0\n",
       "lymphatic_cancer           0\n",
       "advanced_solid_tumor       0\n",
       "dtype: int64"
      ]
     },
     "execution_count": 18,
     "metadata": {},
     "output_type": "execute_result"
    }
   ],
   "source": [
    "train_Medical_History.isnull().sum()\n"
   ]
  },
  {
   "cell_type": "code",
   "execution_count": 19,
   "metadata": {
    "executionCancelledAt": null,
    "executionTime": 139,
    "lastExecutedAt": 1709863774666,
    "lastScheduledRunId": null,
    "lastSuccessfullyExecutedCode": "import pandas as pd\n\n# Reading the train_Vital_Signs.csv file into train_Vital_Signs dataframe\ntrain_Vital_Signs = pd.read_csv('train_Vital_Signs.csv')\ntrain_Vital_Signs.head()",
    "outputsMetadata": {
     "0": {
      "height": 213,
      "type": "dataFrame"
     }
    }
   },
   "outputs": [
    {
     "data": {
      "text/html": [
       "<div>\n",
       "<style scoped>\n",
       "    .dataframe tbody tr th:only-of-type {\n",
       "        vertical-align: middle;\n",
       "    }\n",
       "\n",
       "    .dataframe tbody tr th {\n",
       "        vertical-align: top;\n",
       "    }\n",
       "\n",
       "    .dataframe thead th {\n",
       "        text-align: right;\n",
       "    }\n",
       "</style>\n",
       "<table border=\"1\" class=\"dataframe\">\n",
       "  <thead>\n",
       "    <tr style=\"text-align: right;\">\n",
       "      <th></th>\n",
       "      <th>id</th>\n",
       "      <th>OBS1_hrate_max</th>\n",
       "      <th>OBS1_hrate_min</th>\n",
       "      <th>OBS2_hrate_max</th>\n",
       "      <th>OBS2_hrate_min</th>\n",
       "      <th>OBS1_reprate_max</th>\n",
       "      <th>OBS1_reprate_min</th>\n",
       "      <th>OBS2_reprate_max</th>\n",
       "      <th>OBS2_reprate_min</th>\n",
       "      <th>OBS1_sysb_max</th>\n",
       "      <th>...</th>\n",
       "      <th>OBS2_sysb_max</th>\n",
       "      <th>OBS2_sysb_min</th>\n",
       "      <th>OBS1_diasb_max</th>\n",
       "      <th>OBS1_diasb_min</th>\n",
       "      <th>OBS2_diasb_max</th>\n",
       "      <th>OBS2_diasb_min</th>\n",
       "      <th>OBS1_temper_max</th>\n",
       "      <th>OBS1_temper_min</th>\n",
       "      <th>OBS2_temper_max</th>\n",
       "      <th>OBS2_temper_min</th>\n",
       "    </tr>\n",
       "  </thead>\n",
       "  <tbody>\n",
       "    <tr>\n",
       "      <th>0</th>\n",
       "      <td>246060</td>\n",
       "      <td>118.0</td>\n",
       "      <td>72.0</td>\n",
       "      <td>114.0</td>\n",
       "      <td>100.0</td>\n",
       "      <td>32.0</td>\n",
       "      <td>12.0</td>\n",
       "      <td>31.0</td>\n",
       "      <td>28.0</td>\n",
       "      <td>159.0</td>\n",
       "      <td>...</td>\n",
       "      <td>95.0</td>\n",
       "      <td>71.0</td>\n",
       "      <td>95.0</td>\n",
       "      <td>31.0</td>\n",
       "      <td>61.0</td>\n",
       "      <td>48.0</td>\n",
       "      <td>36.3</td>\n",
       "      <td>35.1</td>\n",
       "      <td>36.3</td>\n",
       "      <td>36.3</td>\n",
       "    </tr>\n",
       "    <tr>\n",
       "      <th>1</th>\n",
       "      <td>276985</td>\n",
       "      <td>96.0</td>\n",
       "      <td>68.0</td>\n",
       "      <td>96.0</td>\n",
       "      <td>78.0</td>\n",
       "      <td>21.0</td>\n",
       "      <td>8.0</td>\n",
       "      <td>20.0</td>\n",
       "      <td>16.0</td>\n",
       "      <td>148.0</td>\n",
       "      <td>...</td>\n",
       "      <td>148.0</td>\n",
       "      <td>124.0</td>\n",
       "      <td>88.0</td>\n",
       "      <td>48.0</td>\n",
       "      <td>88.0</td>\n",
       "      <td>58.0</td>\n",
       "      <td>37.0</td>\n",
       "      <td>36.7</td>\n",
       "      <td>36.7</td>\n",
       "      <td>36.7</td>\n",
       "    </tr>\n",
       "    <tr>\n",
       "      <th>2</th>\n",
       "      <td>262220</td>\n",
       "      <td>116.0</td>\n",
       "      <td>92.0</td>\n",
       "      <td>100.0</td>\n",
       "      <td>96.0</td>\n",
       "      <td>23.0</td>\n",
       "      <td>7.0</td>\n",
       "      <td>12.0</td>\n",
       "      <td>11.0</td>\n",
       "      <td>158.0</td>\n",
       "      <td>...</td>\n",
       "      <td>136.0</td>\n",
       "      <td>106.0</td>\n",
       "      <td>48.0</td>\n",
       "      <td>42.0</td>\n",
       "      <td>62.0</td>\n",
       "      <td>44.0</td>\n",
       "      <td>38.0</td>\n",
       "      <td>34.8</td>\n",
       "      <td>35.6</td>\n",
       "      <td>34.8</td>\n",
       "    </tr>\n",
       "    <tr>\n",
       "      <th>3</th>\n",
       "      <td>201746</td>\n",
       "      <td>89.0</td>\n",
       "      <td>60.0</td>\n",
       "      <td>89.0</td>\n",
       "      <td>76.0</td>\n",
       "      <td>18.0</td>\n",
       "      <td>16.0</td>\n",
       "      <td>NaN</td>\n",
       "      <td>NaN</td>\n",
       "      <td>147.0</td>\n",
       "      <td>...</td>\n",
       "      <td>130.0</td>\n",
       "      <td>120.0</td>\n",
       "      <td>99.0</td>\n",
       "      <td>57.0</td>\n",
       "      <td>99.0</td>\n",
       "      <td>68.0</td>\n",
       "      <td>37.2</td>\n",
       "      <td>36.7</td>\n",
       "      <td>NaN</td>\n",
       "      <td>NaN</td>\n",
       "    </tr>\n",
       "    <tr>\n",
       "      <th>4</th>\n",
       "      <td>182697</td>\n",
       "      <td>113.0</td>\n",
       "      <td>83.0</td>\n",
       "      <td>83.0</td>\n",
       "      <td>83.0</td>\n",
       "      <td>32.0</td>\n",
       "      <td>10.0</td>\n",
       "      <td>12.0</td>\n",
       "      <td>12.0</td>\n",
       "      <td>173.0</td>\n",
       "      <td>...</td>\n",
       "      <td>143.0</td>\n",
       "      <td>143.0</td>\n",
       "      <td>100.0</td>\n",
       "      <td>61.0</td>\n",
       "      <td>89.0</td>\n",
       "      <td>89.0</td>\n",
       "      <td>36.8</td>\n",
       "      <td>36.6</td>\n",
       "      <td>36.7</td>\n",
       "      <td>36.7</td>\n",
       "    </tr>\n",
       "  </tbody>\n",
       "</table>\n",
       "<p>5 rows × 21 columns</p>\n",
       "</div>"
      ],
      "text/plain": [
       "       id  OBS1_hrate_max  OBS1_hrate_min  OBS2_hrate_max  OBS2_hrate_min  \\\n",
       "0  246060           118.0            72.0           114.0           100.0   \n",
       "1  276985            96.0            68.0            96.0            78.0   \n",
       "2  262220           116.0            92.0           100.0            96.0   \n",
       "3  201746            89.0            60.0            89.0            76.0   \n",
       "4  182697           113.0            83.0            83.0            83.0   \n",
       "\n",
       "   OBS1_reprate_max  OBS1_reprate_min  OBS2_reprate_max  OBS2_reprate_min  \\\n",
       "0              32.0              12.0              31.0              28.0   \n",
       "1              21.0               8.0              20.0              16.0   \n",
       "2              23.0               7.0              12.0              11.0   \n",
       "3              18.0              16.0               NaN               NaN   \n",
       "4              32.0              10.0              12.0              12.0   \n",
       "\n",
       "   OBS1_sysb_max  ...  OBS2_sysb_max  OBS2_sysb_min  OBS1_diasb_max  \\\n",
       "0          159.0  ...           95.0           71.0            95.0   \n",
       "1          148.0  ...          148.0          124.0            88.0   \n",
       "2          158.0  ...          136.0          106.0            48.0   \n",
       "3          147.0  ...          130.0          120.0            99.0   \n",
       "4          173.0  ...          143.0          143.0           100.0   \n",
       "\n",
       "   OBS1_diasb_min  OBS2_diasb_max  OBS2_diasb_min  OBS1_temper_max  \\\n",
       "0            31.0            61.0            48.0             36.3   \n",
       "1            48.0            88.0            58.0             37.0   \n",
       "2            42.0            62.0            44.0             38.0   \n",
       "3            57.0            99.0            68.0             37.2   \n",
       "4            61.0            89.0            89.0             36.8   \n",
       "\n",
       "   OBS1_temper_min  OBS2_temper_max  OBS2_temper_min  \n",
       "0             35.1             36.3             36.3  \n",
       "1             36.7             36.7             36.7  \n",
       "2             34.8             35.6             34.8  \n",
       "3             36.7              NaN              NaN  \n",
       "4             36.6             36.7             36.7  \n",
       "\n",
       "[5 rows x 21 columns]"
      ]
     },
     "execution_count": 19,
     "metadata": {},
     "output_type": "execute_result"
    }
   ],
   "source": [
    "import pandas as pd\n",
    "\n",
    "# Reading the train_Vital_Signs.csv file into train_Vital_Signs dataframe\n",
    "train_Vital_Signs = pd.read_csv('./data (1)/data/Training/train_Vital_Signs.csv')\n",
    "train_Vital_Signs.head()"
   ]
  },
  {
   "cell_type": "code",
   "execution_count": 20,
   "metadata": {
    "executionCancelledAt": null,
    "executionTime": 12,
    "lastExecutedAt": 1709863880559,
    "lastScheduledRunId": null,
    "lastSuccessfullyExecutedCode": "train_Vital_Signs.isnull().sum()"
   },
   "outputs": [
    {
     "data": {
      "text/plain": [
       "id                      0\n",
       "OBS1_hrate_max        210\n",
       "OBS1_hrate_min        210\n",
       "OBS2_hrate_max       3222\n",
       "OBS2_hrate_min       3222\n",
       "OBS1_reprate_max      565\n",
       "OBS1_reprate_min      565\n",
       "OBS2_reprate_max     5129\n",
       "OBS2_reprate_min     5129\n",
       "OBS1_sysb_max         226\n",
       "OBS1_sysb_min         226\n",
       "OBS2_sysb_max        4411\n",
       "OBS2_sysb_min        4411\n",
       "OBS1_diasb_max        231\n",
       "OBS1_diasb_min        231\n",
       "OBS2_diasb_max       4418\n",
       "OBS2_diasb_min       4418\n",
       "OBS1_temper_max      3586\n",
       "OBS1_temper_min      3586\n",
       "OBS2_temper_max     23732\n",
       "OBS2_temper_min     23732\n",
       "dtype: int64"
      ]
     },
     "execution_count": 20,
     "metadata": {},
     "output_type": "execute_result"
    }
   ],
   "source": [
    "train_Vital_Signs.isnull().sum()"
   ]
  },
  {
   "cell_type": "code",
   "execution_count": 21,
   "metadata": {
    "executionCancelledAt": null,
    "executionTime": 13,
    "lastExecutedAt": 1709864010325,
    "lastScheduledRunId": null,
    "lastSuccessfullyExecutedCode": "train_Vital_Signs.isnull().mean() * 100"
   },
   "outputs": [
    {
     "data": {
      "text/plain": [
       "id                   0.000000\n",
       "OBS1_hrate_max       0.201681\n",
       "OBS1_hrate_min       0.201681\n",
       "OBS2_hrate_max       3.094358\n",
       "OBS2_hrate_min       3.094358\n",
       "OBS1_reprate_max     0.542617\n",
       "OBS1_reprate_min     0.542617\n",
       "OBS2_reprate_max     4.925810\n",
       "OBS2_reprate_min     4.925810\n",
       "OBS1_sysb_max        0.217047\n",
       "OBS1_sysb_min        0.217047\n",
       "OBS2_sysb_max        4.236255\n",
       "OBS2_sysb_min        4.236255\n",
       "OBS1_diasb_max       0.221849\n",
       "OBS1_diasb_min       0.221849\n",
       "OBS2_diasb_max       4.242977\n",
       "OBS2_diasb_min       4.242977\n",
       "OBS1_temper_max      3.443938\n",
       "OBS1_temper_min      3.443938\n",
       "OBS2_temper_max     22.791837\n",
       "OBS2_temper_min     22.791837\n",
       "dtype: float64"
      ]
     },
     "execution_count": 21,
     "metadata": {},
     "output_type": "execute_result"
    }
   ],
   "source": [
    "train_Vital_Signs.isnull().mean() * 100"
   ]
  },
  {
   "cell_type": "code",
   "execution_count": 22,
   "metadata": {
    "executionCancelledAt": null,
    "executionTime": 476,
    "lastExecutedAt": 1709864350322,
    "lastScheduledRunId": null,
    "lastSuccessfullyExecutedCode": "import seaborn as sns\nimport matplotlib.pyplot as plt\n\n# Plotting the distribution of 'OBS2_sysb_max'\nsns.distplot(train_Vital_Signs['OBS2_sysb_max'].dropna(), kde=True, bins=30)\nplt.title('Distribution of OBS2_sysb_max')\nplt.xlabel('OBS2_sysb_max')\nplt.ylabel('Density')\nplt.show()"
   },
   "outputs": [
    {
     "data": {
      "image/png": "[encoded data removed]",
      "text/plain": [
       "<Figure size 432x288 with 1 Axes>"
      ]
     },
     "metadata": {
      "needs_background": "light"
     },
     "output_type": "display_data"
    }
   ],
   "source": [
    "import seaborn as sns\n",
    "import matplotlib.pyplot as plt\n",
    "\n",
    "# Plotting the distribution of 'OBS2_sysb_max'\n",
    "sns.distplot(train_Vital_Signs['OBS2_sysb_max'].dropna(), kde=True, bins=30)\n",
    "plt.title('Distribution of OBS2_sysb_max')\n",
    "plt.xlabel('OBS2_sysb_max')\n",
    "plt.ylabel('Density')\n",
    "plt.show()"
   ]
  },
  {
   "cell_type": "code",
   "execution_count": 23,
   "metadata": {
    "executionCancelledAt": null,
    "executionTime": 31,
    "lastExecutedAt": 1709864458887,
    "lastScheduledRunId": null,
    "lastSuccessfullyExecutedCode": "# Replacing missing values with the mean for each column in train_Vital_Signs\ntrain_Vital_Signs.fillna(train_Vital_Signs.mean(), inplace=True)\n\n# Checking if there are any missing values left\ntrain_Vital_Signs.isnull().sum()"
   },
   "outputs": [
    {
     "data": {
      "text/plain": [
       "id                  0\n",
       "OBS1_hrate_max      0\n",
       "OBS1_hrate_min      0\n",
       "OBS2_hrate_max      0\n",
       "OBS2_hrate_min      0\n",
       "OBS1_reprate_max    0\n",
       "OBS1_reprate_min    0\n",
       "OBS2_reprate_max    0\n",
       "OBS2_reprate_min    0\n",
       "OBS1_sysb_max       0\n",
       "OBS1_sysb_min       0\n",
       "OBS2_sysb_max       0\n",
       "OBS2_sysb_min       0\n",
       "OBS1_diasb_max      0\n",
       "OBS1_diasb_min      0\n",
       "OBS2_diasb_max      0\n",
       "OBS2_diasb_min      0\n",
       "OBS1_temper_max     0\n",
       "OBS1_temper_min     0\n",
       "OBS2_temper_max     0\n",
       "OBS2_temper_min     0\n",
       "dtype: int64"
      ]
     },
     "execution_count": 23,
     "metadata": {},
     "output_type": "execute_result"
    }
   ],
   "source": [
    "# Replacing missing values with the mean for each column in train_Vital_Signs\n",
    "train_Vital_Signs.fillna(train_Vital_Signs.mean(), inplace=True)\n",
    "\n",
    "# Checking if there are any missing values left\n",
    "train_Vital_Signs.isnull().sum()"
   ]
  },
  {
   "cell_type": "code",
   "execution_count": null,
   "metadata": {},
   "outputs": [],
   "source": []
  },
  {
   "cell_type": "code",
   "execution_count": 24,
   "metadata": {
    "executionCancelledAt": null,
    "executionTime": 25,
    "lastExecutedAt": 1709864969245,
    "lastScheduledRunId": null,
    "lastSuccessfullyExecutedCode": "import pandas as pd\n\n# Reading the train_Target_data.csv file into train_Target_data dataframe\ntrain_Target_data = pd.read_csv('train_Target_data.csv')\ntrain_Target_data.head()\ntrain_Target_data.isnull().sum()"
   },
   "outputs": [
    {
     "data": {
      "text/plain": [
       "id                 0\n",
       "fasting_ability    0\n",
       "dtype: int64"
      ]
     },
     "execution_count": 24,
     "metadata": {},
     "output_type": "execute_result"
    }
   ],
   "source": [
    "import pandas as pd\n",
    "\n",
    "# Reading the train_Target_data.csv file into train_Target_data dataframe\n",
    "train_Target_data = pd.read_csv('./data (1)/data/Training/train_Target_data.csv')\n",
    "train_Target_data.head()\n",
    "train_Target_data.isnull().sum()"
   ]
  },
  {
   "cell_type": "code",
   "execution_count": 25,
   "metadata": {
    "executionCancelledAt": null,
    "executionTime": 282,
    "lastExecutedAt": 1709866570076,
    "lastScheduledRunId": null,
    "lastSuccessfullyExecutedCode": "# Assuming train_Demographics and train_Laboratory_Findings dataframes are already defined in your environment\n# Merging all the train dataframes on the 'id' column\nmerged_train_data = pd.merge(train_Demographics, train_Laboratory_Findings, on='id', how='inner')\nmerged_train_data = pd.merge(merged_train_data, train_Medical_History, on='id', how='inner')\nmerged_train_data = pd.merge(merged_train_data, train_Vital_Signs, on='id', how='inner')\nmerged_train_data = pd.merge(merged_train_data, train_Target_data, on='id', how='inner')\n\nmerged_train_data.head()\n\n\n",
    "outputsMetadata": {
     "0": {
      "height": 213,
      "type": "dataFrame"
     }
    }
   },
   "outputs": [
    {
     "data": {
      "text/html": [
       "<div>\n",
       "<style scoped>\n",
       "    .dataframe tbody tr th:only-of-type {\n",
       "        vertical-align: middle;\n",
       "    }\n",
       "\n",
       "    .dataframe tbody tr th {\n",
       "        vertical-align: top;\n",
       "    }\n",
       "\n",
       "    .dataframe thead th {\n",
       "        text-align: right;\n",
       "    }\n",
       "</style>\n",
       "<table border=\"1\" class=\"dataframe\">\n",
       "  <thead>\n",
       "    <tr style=\"text-align: right;\">\n",
       "      <th></th>\n",
       "      <th>id</th>\n",
       "      <th>age_yrs</th>\n",
       "      <th>weight_kg</th>\n",
       "      <th>height_cm</th>\n",
       "      <th>body_mass_index</th>\n",
       "      <th>gender_identity_M</th>\n",
       "      <th>gender_identity_female</th>\n",
       "      <th>gender_identity_male</th>\n",
       "      <th>ethnic_group_African American</th>\n",
       "      <th>ethnic_group_Asian</th>\n",
       "      <th>...</th>\n",
       "      <th>OBS2_sysb_min</th>\n",
       "      <th>OBS1_diasb_max</th>\n",
       "      <th>OBS1_diasb_min</th>\n",
       "      <th>OBS2_diasb_max</th>\n",
       "      <th>OBS2_diasb_min</th>\n",
       "      <th>OBS1_temper_max</th>\n",
       "      <th>OBS1_temper_min</th>\n",
       "      <th>OBS2_temper_max</th>\n",
       "      <th>OBS2_temper_min</th>\n",
       "      <th>fasting_ability</th>\n",
       "    </tr>\n",
       "  </thead>\n",
       "  <tbody>\n",
       "    <tr>\n",
       "      <th>0</th>\n",
       "      <td>246060.0</td>\n",
       "      <td>77.0</td>\n",
       "      <td>70.200000</td>\n",
       "      <td>160.0</td>\n",
       "      <td>27.421875</td>\n",
       "      <td>0</td>\n",
       "      <td>0</td>\n",
       "      <td>0</td>\n",
       "      <td>0</td>\n",
       "      <td>0</td>\n",
       "      <td>...</td>\n",
       "      <td>71.0</td>\n",
       "      <td>95.0</td>\n",
       "      <td>31.0</td>\n",
       "      <td>61.0</td>\n",
       "      <td>48.0</td>\n",
       "      <td>36.3</td>\n",
       "      <td>35.1</td>\n",
       "      <td>36.300000</td>\n",
       "      <td>36.300000</td>\n",
       "      <td>0</td>\n",
       "    </tr>\n",
       "    <tr>\n",
       "      <th>1</th>\n",
       "      <td>276985.0</td>\n",
       "      <td>25.0</td>\n",
       "      <td>95.300000</td>\n",
       "      <td>172.7</td>\n",
       "      <td>31.952749</td>\n",
       "      <td>0</td>\n",
       "      <td>0</td>\n",
       "      <td>0</td>\n",
       "      <td>0</td>\n",
       "      <td>0</td>\n",
       "      <td>...</td>\n",
       "      <td>124.0</td>\n",
       "      <td>88.0</td>\n",
       "      <td>48.0</td>\n",
       "      <td>88.0</td>\n",
       "      <td>58.0</td>\n",
       "      <td>37.0</td>\n",
       "      <td>36.7</td>\n",
       "      <td>36.700000</td>\n",
       "      <td>36.700000</td>\n",
       "      <td>1</td>\n",
       "    </tr>\n",
       "    <tr>\n",
       "      <th>2</th>\n",
       "      <td>262220.0</td>\n",
       "      <td>81.0</td>\n",
       "      <td>61.700000</td>\n",
       "      <td>165.1</td>\n",
       "      <td>22.635548</td>\n",
       "      <td>0</td>\n",
       "      <td>0</td>\n",
       "      <td>0</td>\n",
       "      <td>0</td>\n",
       "      <td>0</td>\n",
       "      <td>...</td>\n",
       "      <td>106.0</td>\n",
       "      <td>48.0</td>\n",
       "      <td>42.0</td>\n",
       "      <td>62.0</td>\n",
       "      <td>44.0</td>\n",
       "      <td>38.0</td>\n",
       "      <td>34.8</td>\n",
       "      <td>35.600000</td>\n",
       "      <td>34.800000</td>\n",
       "      <td>1</td>\n",
       "    </tr>\n",
       "    <tr>\n",
       "      <th>3</th>\n",
       "      <td>201746.0</td>\n",
       "      <td>19.0</td>\n",
       "      <td>83.801183</td>\n",
       "      <td>188.0</td>\n",
       "      <td>29.105144</td>\n",
       "      <td>1</td>\n",
       "      <td>0</td>\n",
       "      <td>0</td>\n",
       "      <td>0</td>\n",
       "      <td>0</td>\n",
       "      <td>...</td>\n",
       "      <td>120.0</td>\n",
       "      <td>99.0</td>\n",
       "      <td>57.0</td>\n",
       "      <td>99.0</td>\n",
       "      <td>68.0</td>\n",
       "      <td>37.2</td>\n",
       "      <td>36.7</td>\n",
       "      <td>36.722955</td>\n",
       "      <td>36.613913</td>\n",
       "      <td>1</td>\n",
       "    </tr>\n",
       "    <tr>\n",
       "      <th>4</th>\n",
       "      <td>182697.0</td>\n",
       "      <td>67.0</td>\n",
       "      <td>100.000000</td>\n",
       "      <td>190.5</td>\n",
       "      <td>27.555611</td>\n",
       "      <td>1</td>\n",
       "      <td>0</td>\n",
       "      <td>0</td>\n",
       "      <td>0</td>\n",
       "      <td>0</td>\n",
       "      <td>...</td>\n",
       "      <td>143.0</td>\n",
       "      <td>100.0</td>\n",
       "      <td>61.0</td>\n",
       "      <td>89.0</td>\n",
       "      <td>89.0</td>\n",
       "      <td>36.8</td>\n",
       "      <td>36.6</td>\n",
       "      <td>36.700000</td>\n",
       "      <td>36.700000</td>\n",
       "      <td>0</td>\n",
       "    </tr>\n",
       "  </tbody>\n",
       "</table>\n",
       "<p>5 rows × 71 columns</p>\n",
       "</div>"
      ],
      "text/plain": [
       "         id  age_yrs   weight_kg  height_cm  body_mass_index  \\\n",
       "0  246060.0     77.0   70.200000      160.0        27.421875   \n",
       "1  276985.0     25.0   95.300000      172.7        31.952749   \n",
       "2  262220.0     81.0   61.700000      165.1        22.635548   \n",
       "3  201746.0     19.0   83.801183      188.0        29.105144   \n",
       "4  182697.0     67.0  100.000000      190.5        27.555611   \n",
       "\n",
       "   gender_identity_M  gender_identity_female  gender_identity_male  \\\n",
       "0                  0                       0                     0   \n",
       "1                  0                       0                     0   \n",
       "2                  0                       0                     0   \n",
       "3                  1                       0                     0   \n",
       "4                  1                       0                     0   \n",
       "\n",
       "   ethnic_group_African American  ethnic_group_Asian  ...  OBS2_sysb_min  \\\n",
       "0                              0                   0  ...           71.0   \n",
       "1                              0                   0  ...          124.0   \n",
       "2                              0                   0  ...          106.0   \n",
       "3                              0                   0  ...          120.0   \n",
       "4                              0                   0  ...          143.0   \n",
       "\n",
       "   OBS1_diasb_max  OBS1_diasb_min  OBS2_diasb_max  OBS2_diasb_min  \\\n",
       "0            95.0            31.0            61.0            48.0   \n",
       "1            88.0            48.0            88.0            58.0   \n",
       "2            48.0            42.0            62.0            44.0   \n",
       "3            99.0            57.0            99.0            68.0   \n",
       "4           100.0            61.0            89.0            89.0   \n",
       "\n",
       "   OBS1_temper_max  OBS1_temper_min  OBS2_temper_max  OBS2_temper_min  \\\n",
       "0             36.3             35.1        36.300000        36.300000   \n",
       "1             37.0             36.7        36.700000        36.700000   \n",
       "2             38.0             34.8        35.600000        34.800000   \n",
       "3             37.2             36.7        36.722955        36.613913   \n",
       "4             36.8             36.6        36.700000        36.700000   \n",
       "\n",
       "   fasting_ability  \n",
       "0                0  \n",
       "1                1  \n",
       "2                1  \n",
       "3                1  \n",
       "4                0  \n",
       "\n",
       "[5 rows x 71 columns]"
      ]
     },
     "execution_count": 25,
     "metadata": {},
     "output_type": "execute_result"
    }
   ],
   "source": [
    "# Assuming train_Demographics and train_Laboratory_Findings dataframes are already defined in your environment\n",
    "# Merging all the train dataframes on the 'id' column\n",
    "merged_train_data = pd.merge(train_Demographics, train_Laboratory_Findings, on='id', how='inner')\n",
    "merged_train_data = pd.merge(merged_train_data, train_Medical_History, on='id', how='inner')\n",
    "merged_train_data = pd.merge(merged_train_data, train_Vital_Signs, on='id', how='inner')\n",
    "merged_train_data = pd.merge(merged_train_data, train_Target_data, on='id', how='inner')\n",
    "\n",
    "merged_train_data.head()\n",
    "\n",
    "\n"
   ]
  },
  {
   "cell_type": "code",
   "execution_count": 26,
   "metadata": {
    "executionCancelledAt": null,
    "executionTime": 16,
    "lastExecutedAt": 1709868990969,
    "lastScheduledRunId": null,
    "lastSuccessfullyExecutedCode": "merged_train_data.dtypes"
   },
   "outputs": [
    {
     "data": {
      "text/plain": [
       "id                 float64\n",
       "age_yrs            float64\n",
       "weight_kg          float64\n",
       "height_cm          float64\n",
       "body_mass_index    float64\n",
       "                    ...   \n",
       "OBS1_temper_max    float64\n",
       "OBS1_temper_min    float64\n",
       "OBS2_temper_max    float64\n",
       "OBS2_temper_min    float64\n",
       "fasting_ability      int64\n",
       "Length: 71, dtype: object"
      ]
     },
     "execution_count": 26,
     "metadata": {},
     "output_type": "execute_result"
    }
   ],
   "source": [
    "merged_train_data.dtypes"
   ]
  },
  {
   "cell_type": "code",
   "execution_count": 27,
   "metadata": {
    "executionCancelledAt": null,
    "executionTime": 101,
    "lastExecutedAt": 1709869213250,
    "lastScheduledRunId": null,
    "lastSuccessfullyExecutedCode": "import pandas as pd\nfrom sklearn.feature_selection import SelectKBest, f_classif\nfrom sklearn.preprocessing import LabelEncoder\n\n# Assuming 'merged_train_data' is your dataframe and 'fasting_ability' is the target variable\nX = merged_train_data.drop('fasting_ability', axis=1)  # Features\ny = merged_train_data['fasting_ability']  # Target variable\n\n# Convert categorical variables to numeric using LabelEncoder\nlabel_encoders = {}\nfor column in X.select_dtypes(include=['object', 'bool']).columns:\n    le = LabelEncoder()\n    X[column] = le.fit_transform(X[column])\n    label_encoders[column] = le\n\n# Apply SelectKBest class to extract top 10 best features\nbestfeatures = SelectKBest(score_func=f_classif, k=10)\nfit = bestfeatures.fit(X,y)\n\ndfscores = pd.DataFrame(fit.scores_)\ndfcolumns = pd.DataFrame(X.columns)\n\n# Concat two dataframes for better visualization \nfeatureScores = pd.concat([dfcolumns,dfscores],axis=1)\nfeatureScores.columns = ['Feature','Score']  # Naming the dataframe columns\n\n# Saving the best features in a list\nbest_features_list = featureScores.nlargest(10,'Score')['Feature'].tolist()\nbest_features_list",
    "outputsMetadata": {
     "0": {
      "height": 237,
      "type": "stream"
     }
    }
   },
   "outputs": [
    {
     "data": {
      "text/plain": [
       "['OBS1_glucose_max',\n",
       " 'OBS2_glucose_max',\n",
       " 'OBS2_glucose_min',\n",
       " 'body_mass_index',\n",
       " 'weight_kg',\n",
       " 'OBS1_bun_max',\n",
       " 'OBS1_creatinine_max',\n",
       " 'OBS1_creatinine_min',\n",
       " 'OBS1_bun_min',\n",
       " 'age_yrs']"
      ]
     },
     "execution_count": 27,
     "metadata": {},
     "output_type": "execute_result"
    }
   ],
   "source": [
    "import pandas as pd\n",
    "from sklearn.feature_selection import SelectKBest, f_classif\n",
    "from sklearn.preprocessing import LabelEncoder\n",
    "\n",
    "# Assuming 'merged_train_data' is your dataframe and 'fasting_ability' is the target variable\n",
    "X = merged_train_data.drop('fasting_ability', axis=1)  # Features\n",
    "y = merged_train_data['fasting_ability']  # Target variable\n",
    "\n",
    "# Convert categorical variables to numeric using LabelEncoder\n",
    "label_encoders = {}\n",
    "for column in X.select_dtypes(include=['object', 'bool']).columns:\n",
    "    le = LabelEncoder()\n",
    "    X[column] = le.fit_transform(X[column])\n",
    "    label_encoders[column] = le\n",
    "\n",
    "# Apply SelectKBest class to extract top 10 best features\n",
    "bestfeatures = SelectKBest(score_func=f_classif, k=10)\n",
    "fit = bestfeatures.fit(X,y)\n",
    "\n",
    "dfscores = pd.DataFrame(fit.scores_)\n",
    "dfcolumns = pd.DataFrame(X.columns)\n",
    "\n",
    "# Concat two dataframes for better visualization \n",
    "featureScores = pd.concat([dfcolumns,dfscores],axis=1)\n",
    "featureScores.columns = ['Feature','Score']  # Naming the dataframe columns\n",
    "\n",
    "# Saving the best features in a list\n",
    "best_features_list = featureScores.nlargest(10,'Score')['Feature'].tolist()\n",
    "best_features_list"
   ]
  },
  {
   "cell_type": "code",
   "execution_count": 28,
   "metadata": {},
   "outputs": [
    {
     "name": "stdout",
     "output_type": "stream",
     "text": [
      "0.8410095445519186\n"
     ]
    },
    {
     "data": {
      "text/plain": [
       "\"\\n# Logistic Regression\\n\\nlogreg = LogisticRegression(max_iter=1000)\\nlogreg.fit(X_train, y_train)\\nlogreg_predictions = logreg.predict(X_test)\\nprint(accuracy_score(y_test, logreg_predictions))\\n\\n\\n\\n# Support Vector Machine (SVM)\\n\\nsvm_classifier = SVC(kernel = 'linear', random_state = 0)\\nsvm_classifier.fit(X_train, y_train)\\nsvm_predictions = svm_classifier.predict(X_test)\\nmodel_accuracies['SVM'] = accuracy_score(y_test, svm_predictions)\\n\\n# Displaying the accuracy of each model\\nmodel_accuracies\""
      ]
     },
     "execution_count": 28,
     "metadata": {},
     "output_type": "execute_result"
    }
   ],
   "source": [
    "from sklearn.model_selection import train_test_split\n",
    "from sklearn.metrics import accuracy_score\n",
    "from sklearn.ensemble import RandomForestClassifier\n",
    "from sklearn.linear_model import LogisticRegression\n",
    "from sklearn.svm import SVC\n",
    "\n",
    "# Splitting the dataset into the Training set and Test set\n",
    "X_train, X_test, y_train, y_test = train_test_split(X[best_features_list], y, test_size = 0.2, random_state = 0)\n",
    "\n",
    "# Creating a dictionary to store the accuracy of each model for comparison\n",
    "# model_accuracies = {}\n",
    "\n",
    "# Random Forest Classifier\n",
    "rf_classifier = RandomForestClassifier(n_estimators = 100, random_state = 0)\n",
    "rf_classifier.fit(X_train, y_train)\n",
    "rf_predictions = rf_classifier.predict(X_test)\n",
    "print(accuracy_score(y_test, rf_predictions))\n",
    "\n",
    "\"\"\"\n",
    "# Logistic Regression\n",
    "\n",
    "logreg = LogisticRegression(max_iter=1000)\n",
    "logreg.fit(X_train, y_train)\n",
    "logreg_predictions = logreg.predict(X_test)\n",
    "print(accuracy_score(y_test, logreg_predictions))\n",
    "\n",
    "\n",
    "\n",
    "# Support Vector Machine (SVM)\n",
    "\n",
    "svm_classifier = SVC(kernel = 'linear', random_state = 0)\n",
    "svm_classifier.fit(X_train, y_train)\n",
    "svm_predictions = svm_classifier.predict(X_test)\n",
    "model_accuracies['SVM'] = accuracy_score(y_test, svm_predictions)\n",
    "\n",
    "# Displaying the accuracy of each model\n",
    "model_accuracies\"\"\""
   ]
  },
  {
   "cell_type": "code",
   "execution_count": 29,
   "metadata": {},
   "outputs": [
    {
     "data": {
      "text/plain": [
       "'svm_classifier = SVC(kernel = \\'linear\\', random_state = 0)\\nprint(\"v1\")\\nsvm_classifier.fit(X_train, y_train)\\nprint(\"training complete\")\\nsvm_predictions = svm_classifier.predict(X_test)\\nprint(accuracy_score(y_test, svm_predictions))'"
      ]
     },
     "execution_count": 29,
     "metadata": {},
     "output_type": "execute_result"
    }
   ],
   "source": [
    "\"\"\"svm_classifier = SVC(kernel = 'linear', random_state = 0)\n",
    "print(\"v1\")\n",
    "svm_classifier.fit(X_train, y_train)\n",
    "print(\"training complete\")\n",
    "svm_predictions = svm_classifier.predict(X_test)\n",
    "print(accuracy_score(y_test, svm_predictions))\"\"\""
   ]
  },
  {
   "cell_type": "code",
   "execution_count": 30,
   "metadata": {},
   "outputs": [
    {
     "data": {
      "text/plain": [
       "['OBS1_glucose_max',\n",
       " 'OBS2_glucose_max',\n",
       " 'OBS2_glucose_min',\n",
       " 'body_mass_index',\n",
       " 'weight_kg',\n",
       " 'OBS1_bun_max',\n",
       " 'OBS1_creatinine_max',\n",
       " 'OBS1_creatinine_min',\n",
       " 'OBS1_bun_min',\n",
       " 'age_yrs',\n",
       " 'OBS1_glucose_min',\n",
       " 'OBS2_diasb_min',\n",
       " 'OBS1_hematocrit_max',\n",
       " 'OBS1_sysb_max',\n",
       " 'OBS1_hematocrit_min']"
      ]
     },
     "execution_count": 30,
     "metadata": {},
     "output_type": "execute_result"
    }
   ],
   "source": [
    "import pandas as pd\n",
    "from sklearn.feature_selection import SelectKBest, f_classif\n",
    "from sklearn.preprocessing import LabelEncoder\n",
    "\n",
    "# Assuming 'merged_train_data' is your dataframe and 'fasting_ability' is the target variable\n",
    "X = merged_train_data.drop('fasting_ability', axis=1)  # Features\n",
    "y = merged_train_data['fasting_ability']  # Target variable\n",
    "\n",
    "# Convert categorical variables to numeric using LabelEncoder\n",
    "label_encoders = {}\n",
    "for column in X.select_dtypes(include=['object', 'bool']).columns:\n",
    "    le = LabelEncoder()\n",
    "    X[column] = le.fit_transform(X[column])\n",
    "    label_encoders[column] = le\n",
    "\n",
    "# Apply SelectKBest class to extract top 15 best features\n",
    "bestfeatures = SelectKBest(score_func=f_classif, k=15)  # Change k to 15\n",
    "fit = bestfeatures.fit(X,y)\n",
    "\n",
    "dfscores = pd.DataFrame(fit.scores_)\n",
    "dfcolumns = pd.DataFrame(X.columns)\n",
    "\n",
    "# Concat two dataframes for better visualization \n",
    "featureScores = pd.concat([dfcolumns,dfscores],axis=1)\n",
    "featureScores.columns = ['Feature','Score']  # Naming the dataframe columns\n",
    "\n",
    "# Saving the best features in a list\n",
    "best_features_list = featureScores.nlargest(15,'Score')['Feature'].tolist()  # Change 'nlargest' to 15\n",
    "best_features_list\n"
   ]
  },
  {
   "cell_type": "code",
   "execution_count": 31,
   "metadata": {
    "executionCancelledAt": null,
    "executionTime": 13,
    "lastExecutedAt": 1709867369099,
    "lastScheduledRunId": null,
    "lastSuccessfullyExecutedCode": "merged_train_data.shape"
   },
   "outputs": [
    {
     "data": {
      "text/plain": [
       "'from sklearn.model_selection import train_test_split\\nfrom sklearn.metrics import accuracy_score\\nfrom sklearn.ensemble import RandomForestClassifier\\nfrom sklearn.linear_model import LogisticRegression\\nfrom sklearn.svm import SVC\\n\\n# Splitting the dataset into the Training set and Test set\\nX_train, X_test, y_train, y_test = train_test_split(X[best_features_list], y, test_size = 0.2, random_state = 0)\\n\\n# Creating a dictionary to store the accuracy of each model for comparison\\n# model_accuracies = {}\\n\\n# Random Forest Classifier\\nrf_classifier = RandomForestClassifier(n_estimators = 100, random_state = 0)\\nrf_classifier.fit(X_train, y_train)\\nrf_predictions = rf_classifier.predict(X_test)\\nprint(accuracy_score(y_test, rf_predictions))'"
      ]
     },
     "execution_count": 31,
     "metadata": {},
     "output_type": "execute_result"
    }
   ],
   "source": [
    "\"\"\"from sklearn.model_selection import train_test_split\n",
    "from sklearn.metrics import accuracy_score\n",
    "from sklearn.ensemble import RandomForestClassifier\n",
    "from sklearn.linear_model import LogisticRegression\n",
    "from sklearn.svm import SVC\n",
    "\n",
    "# Splitting the dataset into the Training set and Test set\n",
    "X_train, X_test, y_train, y_test = train_test_split(X[best_features_list], y, test_size = 0.2, random_state = 0)\n",
    "\n",
    "# Creating a dictionary to store the accuracy of each model for comparison\n",
    "# model_accuracies = {}\n",
    "\n",
    "# Random Forest Classifier\n",
    "rf_classifier = RandomForestClassifier(n_estimators = 100, random_state = 0)\n",
    "rf_classifier.fit(X_train, y_train)\n",
    "rf_predictions = rf_classifier.predict(X_test)\n",
    "print(accuracy_score(y_test, rf_predictions))\"\"\""
   ]
  },
  {
   "cell_type": "code",
   "execution_count": 32,
   "metadata": {
    "executionCancelledAt": null,
    "executionTime": 27,
    "lastExecutedAt": 1709868213925,
    "lastScheduledRunId": null,
    "lastSuccessfullyExecutedCode": "pd.crosstab(merged_train_data['lymphatic_cancer'],merged_train_data['fasting_ability'])",
    "outputsMetadata": {
     "0": {
      "height": 122,
      "type": "dataFrame"
     }
    }
   },
   "outputs": [
    {
     "data": {
      "text/plain": [
       "'\\nfrom sklearn.model_selection import GridSearchCV\\n\\n# Define the parameter grid\\n# Define a reduced parameter grid\\nparam_grid = {\\n    \\'n_estimators\\': [100, 200],           # Reduced number of trees in the forest\\n    \\'max_depth\\': [None, 10],               # Reduced maximum depth of the trees\\n    \\'min_samples_split\\': [2, 5],           # Reduced minimum number of samples required to split an internal node\\n    \\'min_samples_leaf\\': [1, 2]             # Reduced minimum number of samples required to be at a leaf node\\n}\\n\\n\\n# Create a Random Forest classifier\\nrf_classifier = RandomForestClassifier(random_state=0)\\n\\n# Perform grid search with cross-validation\\ngrid_search = GridSearchCV(estimator=rf_classifier, param_grid=param_grid, cv=5, scoring=\\'accuracy\\')\\ngrid_search.fit(X_train, y_train)\\n\\n# Print the best parameters and best score\\nbest_params=grid_search.best_params_\\nbest_score=grid_search.best_score_\\nprint(\"Best Parameters:\", best_params)\\nprint(\"Best Accuracy:\", best_score)\\n'"
      ]
     },
     "execution_count": 32,
     "metadata": {},
     "output_type": "execute_result"
    }
   ],
   "source": [
    "\"\"\"\n",
    "from sklearn.model_selection import GridSearchCV\n",
    "\n",
    "# Define the parameter grid\n",
    "# Define a reduced parameter grid\n",
    "param_grid = {\n",
    "    'n_estimators': [100, 200],           # Reduced number of trees in the forest\n",
    "    'max_depth': [None, 10],               # Reduced maximum depth of the trees\n",
    "    'min_samples_split': [2, 5],           # Reduced minimum number of samples required to split an internal node\n",
    "    'min_samples_leaf': [1, 2]             # Reduced minimum number of samples required to be at a leaf node\n",
    "}\n",
    "\n",
    "\n",
    "# Create a Random Forest classifier\n",
    "rf_classifier = RandomForestClassifier(random_state=0)\n",
    "\n",
    "# Perform grid search with cross-validation\n",
    "grid_search = GridSearchCV(estimator=rf_classifier, param_grid=param_grid, cv=5, scoring='accuracy')\n",
    "grid_search.fit(X_train, y_train)\n",
    "\n",
    "# Print the best parameters and best score\n",
    "best_params=grid_search.best_params_\n",
    "best_score=grid_search.best_score_\n",
    "print(\"Best Parameters:\", best_params)\n",
    "print(\"Best Accuracy:\", best_score)\n",
    "\"\"\""
   ]
  },
  {
   "cell_type": "code",
   "execution_count": 33,
   "metadata": {},
   "outputs": [
    {
     "data": {
      "text/plain": [
       "'from sklearn.model_selection import train_test_split\\nfrom sklearn.metrics import accuracy_score\\nfrom sklearn.ensemble import RandomForestClassifier\\nfrom sklearn.linear_model import LogisticRegression\\nfrom sklearn.svm import SVC\\n\\n# Splitting the dataset into the Training set and Test set\\nX_train, X_test, y_train, y_test = train_test_split(X[best_features_list], y, test_size = 0.2, random_state = 0)\\n\\n# Creating a dictionary to store the accuracy of each model for comparison\\n# model_accuracies = {}\\n\\n# Random Forest Classifier\\nrf_classifier = RandomForestClassifier(n_estimators = 200, random_state = 0, max_depth= 10 , min_samples_split=5, min_samples_leaf=2)\\nrf_classifier.fit(X_train, y_train)\\nrf_predictions = rf_classifier.predict(X_test)\\nprint(accuracy_score(y_test, rf_predictions))\\n'"
      ]
     },
     "execution_count": 33,
     "metadata": {},
     "output_type": "execute_result"
    }
   ],
   "source": [
    "\"\"\"from sklearn.model_selection import train_test_split\n",
    "from sklearn.metrics import accuracy_score\n",
    "from sklearn.ensemble import RandomForestClassifier\n",
    "from sklearn.linear_model import LogisticRegression\n",
    "from sklearn.svm import SVC\n",
    "\n",
    "# Splitting the dataset into the Training set and Test set\n",
    "X_train, X_test, y_train, y_test = train_test_split(X[best_features_list], y, test_size = 0.2, random_state = 0)\n",
    "\n",
    "# Creating a dictionary to store the accuracy of each model for comparison\n",
    "# model_accuracies = {}\n",
    "\n",
    "# Random Forest Classifier\n",
    "rf_classifier = RandomForestClassifier(n_estimators = 200, random_state = 0, max_depth= 10 , min_samples_split=5, min_samples_leaf=2)\n",
    "rf_classifier.fit(X_train, y_train)\n",
    "rf_predictions = rf_classifier.predict(X_test)\n",
    "print(accuracy_score(y_test, rf_predictions))\n",
    "\"\"\""
   ]
  },
  {
   "cell_type": "code",
   "execution_count": 34,
   "metadata": {},
   "outputs": [
    {
     "data": {
      "text/plain": [
       "(26032, 7)"
      ]
     },
     "execution_count": 34,
     "metadata": {},
     "output_type": "execute_result"
    }
   ],
   "source": [
    "# cleaning the test data\n",
    "test_Demographics = pd.read_csv('./data (1)/data/Testing/test_Demographics.csv')\n",
    "test_Demographics.head() \n",
    "test_Demographics.shape"
   ]
  },
  {
   "cell_type": "code",
   "execution_count": 35,
   "metadata": {},
   "outputs": [
    {
     "data": {
      "text/plain": [
       "id                    0\n",
       "age_yrs            1009\n",
       "ethnic_group        326\n",
       "gender_identity      11\n",
       "weight_kg           676\n",
       "height_cm           441\n",
       "body_mass_index     905\n",
       "dtype: int64"
      ]
     },
     "execution_count": 35,
     "metadata": {},
     "output_type": "execute_result"
    }
   ],
   "source": [
    "test_Demographics.isnull().sum()"
   ]
  },
  {
   "cell_type": "code",
   "execution_count": 36,
   "metadata": {},
   "outputs": [
    {
     "data": {
      "image/png": "[encoded data removed]",
      "text/plain": [
       "<Figure size 576x432 with 1 Axes>"
      ]
     },
     "metadata": {
      "needs_background": "light"
     },
     "output_type": "display_data"
    }
   ],
   "source": [
    "import matplotlib.pyplot as plt\n",
    "\n",
    "# Plot histogram of the 'age_yrs' feature\n",
    "plt.figure(figsize=(8, 6))\n",
    "plt.hist(test_Demographics['age_yrs'], bins=30, color='skyblue', edgecolor='black')\n",
    "plt.title('Histogram of Age')\n",
    "plt.xlabel('Age (years)')\n",
    "plt.ylabel('Frequency')\n",
    "plt.grid(True)\n",
    "plt.show()\n"
   ]
  },
  {
   "cell_type": "code",
   "execution_count": 37,
   "metadata": {},
   "outputs": [],
   "source": [
    "# Replace missing values in 'age_yrs' with the mean\n",
    "mean_age = test_Demographics['age_yrs'].mean()\n",
    "test_Demographics['age_yrs'] = test_Demographics['age_yrs'].fillna(mean_age)\n"
   ]
  },
  {
   "cell_type": "code",
   "execution_count": 38,
   "metadata": {},
   "outputs": [
    {
     "data": {
      "text/plain": [
       "id                   0\n",
       "age_yrs              0\n",
       "ethnic_group       326\n",
       "gender_identity     11\n",
       "weight_kg          676\n",
       "height_cm          441\n",
       "body_mass_index    905\n",
       "dtype: int64"
      ]
     },
     "execution_count": 38,
     "metadata": {},
     "output_type": "execute_result"
    }
   ],
   "source": [
    "test_Demographics.isnull().sum()"
   ]
  },
  {
   "cell_type": "code",
   "execution_count": 39,
   "metadata": {},
   "outputs": [
    {
     "data": {
      "text/html": [
       "<div>\n",
       "<style scoped>\n",
       "    .dataframe tbody tr th:only-of-type {\n",
       "        vertical-align: middle;\n",
       "    }\n",
       "\n",
       "    .dataframe tbody tr th {\n",
       "        vertical-align: top;\n",
       "    }\n",
       "\n",
       "    .dataframe thead th {\n",
       "        text-align: right;\n",
       "    }\n",
       "</style>\n",
       "<table border=\"1\" class=\"dataframe\">\n",
       "  <thead>\n",
       "    <tr style=\"text-align: right;\">\n",
       "      <th></th>\n",
       "      <th>id</th>\n",
       "      <th>age_yrs</th>\n",
       "      <th>ethnic_group</th>\n",
       "      <th>gender_identity</th>\n",
       "      <th>weight_kg</th>\n",
       "      <th>height_cm</th>\n",
       "      <th>body_mass_index</th>\n",
       "    </tr>\n",
       "  </thead>\n",
       "  <tbody>\n",
       "    <tr>\n",
       "      <th>0</th>\n",
       "      <td>214826</td>\n",
       "      <td>68.0</td>\n",
       "      <td>Caucasian</td>\n",
       "      <td>M</td>\n",
       "      <td>73.9</td>\n",
       "      <td>180.3</td>\n",
       "      <td>22.732803</td>\n",
       "    </tr>\n",
       "    <tr>\n",
       "      <th>1</th>\n",
       "      <td>190593</td>\n",
       "      <td>68.0</td>\n",
       "      <td>Caucasian</td>\n",
       "      <td>M</td>\n",
       "      <td>82.2</td>\n",
       "      <td>172.7</td>\n",
       "      <td>27.560503</td>\n",
       "    </tr>\n",
       "    <tr>\n",
       "      <th>2</th>\n",
       "      <td>244158</td>\n",
       "      <td>45.0</td>\n",
       "      <td>Caucasian</td>\n",
       "      <td>M</td>\n",
       "      <td>116.6</td>\n",
       "      <td>190.5</td>\n",
       "      <td>32.129842</td>\n",
       "    </tr>\n",
       "    <tr>\n",
       "      <th>3</th>\n",
       "      <td>238278</td>\n",
       "      <td>71.0</td>\n",
       "      <td>Caucasian</td>\n",
       "      <td>M</td>\n",
       "      <td>121.7</td>\n",
       "      <td>177.8</td>\n",
       "      <td>38.497016</td>\n",
       "    </tr>\n",
       "    <tr>\n",
       "      <th>4</th>\n",
       "      <td>198305</td>\n",
       "      <td>65.0</td>\n",
       "      <td>African American</td>\n",
       "      <td>M</td>\n",
       "      <td>78.4</td>\n",
       "      <td>172.7</td>\n",
       "      <td>26.286417</td>\n",
       "    </tr>\n",
       "  </tbody>\n",
       "</table>\n",
       "</div>"
      ],
      "text/plain": [
       "       id  age_yrs      ethnic_group gender_identity  weight_kg  height_cm  \\\n",
       "0  214826     68.0         Caucasian               M       73.9      180.3   \n",
       "1  190593     68.0         Caucasian               M       82.2      172.7   \n",
       "2  244158     45.0         Caucasian               M      116.6      190.5   \n",
       "3  238278     71.0         Caucasian               M      121.7      177.8   \n",
       "4  198305     65.0  African American               M       78.4      172.7   \n",
       "\n",
       "   body_mass_index  \n",
       "0        22.732803  \n",
       "1        27.560503  \n",
       "2        32.129842  \n",
       "3        38.497016  \n",
       "4        26.286417  "
      ]
     },
     "execution_count": 39,
     "metadata": {},
     "output_type": "execute_result"
    }
   ],
   "source": [
    "test_Demographics.head()"
   ]
  },
  {
   "cell_type": "code",
   "execution_count": 40,
   "metadata": {},
   "outputs": [
    {
     "ename": "KeyError",
     "evalue": "\"['ethnic_African American' 'ethnic_Asian' 'ethnic_Caucasian'\\n 'ethnic_Caucasian' 'ethnic_Native American' 'ethnic_Other/Unknown'] not found in axis\"",
     "output_type": "error",
     "traceback": [
      "\u001b[1;31m---------------------------------------------------------------------------\u001b[0m",
      "\u001b[1;31mKeyError\u001b[0m                                  Traceback (most recent call last)",
      "\u001b[1;32m<ipython-input-40-8ddc4ef35c75>\u001b[0m in \u001b[0;36m<module>\u001b[1;34m\u001b[0m\n\u001b[0;32m      3\u001b[0m \u001b[1;33m\u001b[0m\u001b[0m\n\u001b[0;32m      4\u001b[0m \u001b[1;31m# Deleting the specified columns from the DataFrame\u001b[0m\u001b[1;33m\u001b[0m\u001b[1;33m\u001b[0m\u001b[1;33m\u001b[0m\u001b[0m\n\u001b[1;32m----> 5\u001b[1;33m \u001b[0mtest_Demographics\u001b[0m\u001b[1;33m.\u001b[0m\u001b[0mdrop\u001b[0m\u001b[1;33m(\u001b[0m\u001b[0mcolumns\u001b[0m\u001b[1;33m=\u001b[0m\u001b[1;33m[\u001b[0m \u001b[1;34m'ethnic_African American'\u001b[0m\u001b[1;33m,\u001b[0m \u001b[1;34m'ethnic_Asian'\u001b[0m\u001b[1;33m,\u001b[0m \u001b[1;34m'ethnic_Caucasian'\u001b[0m\u001b[1;33m,\u001b[0m\u001b[1;34m'ethnic_Caucasian'\u001b[0m\u001b[1;33m,\u001b[0m \u001b[1;34m'ethnic_Native American'\u001b[0m\u001b[1;33m,\u001b[0m\u001b[1;34m'ethnic_Other/Unknown'\u001b[0m\u001b[1;33m]\u001b[0m\u001b[1;33m,\u001b[0m \u001b[0minplace\u001b[0m\u001b[1;33m=\u001b[0m\u001b[1;32mTrue\u001b[0m\u001b[1;33m)\u001b[0m\u001b[1;33m\u001b[0m\u001b[1;33m\u001b[0m\u001b[0m\n\u001b[0m\u001b[0;32m      6\u001b[0m \u001b[1;33m\u001b[0m\u001b[0m\n",
      "\u001b[1;32m~\\anaconda3\\lib\\site-packages\\pandas\\core\\frame.py\u001b[0m in \u001b[0;36mdrop\u001b[1;34m(self, labels, axis, index, columns, level, inplace, errors)\u001b[0m\n\u001b[0;32m   4161\u001b[0m                 \u001b[0mweight\u001b[0m  \u001b[1;36m1.0\u001b[0m     \u001b[1;36m0.8\u001b[0m\u001b[1;33m\u001b[0m\u001b[1;33m\u001b[0m\u001b[0m\n\u001b[0;32m   4162\u001b[0m         \"\"\"\n\u001b[1;32m-> 4163\u001b[1;33m         return super().drop(\n\u001b[0m\u001b[0;32m   4164\u001b[0m             \u001b[0mlabels\u001b[0m\u001b[1;33m=\u001b[0m\u001b[0mlabels\u001b[0m\u001b[1;33m,\u001b[0m\u001b[1;33m\u001b[0m\u001b[1;33m\u001b[0m\u001b[0m\n\u001b[0;32m   4165\u001b[0m             \u001b[0maxis\u001b[0m\u001b[1;33m=\u001b[0m\u001b[0maxis\u001b[0m\u001b[1;33m,\u001b[0m\u001b[1;33m\u001b[0m\u001b[1;33m\u001b[0m\u001b[0m\n",
      "\u001b[1;32m~\\anaconda3\\lib\\site-packages\\pandas\\core\\generic.py\u001b[0m in \u001b[0;36mdrop\u001b[1;34m(self, labels, axis, index, columns, level, inplace, errors)\u001b[0m\n\u001b[0;32m   3885\u001b[0m         \u001b[1;32mfor\u001b[0m \u001b[0maxis\u001b[0m\u001b[1;33m,\u001b[0m \u001b[0mlabels\u001b[0m \u001b[1;32min\u001b[0m \u001b[0maxes\u001b[0m\u001b[1;33m.\u001b[0m\u001b[0mitems\u001b[0m\u001b[1;33m(\u001b[0m\u001b[1;33m)\u001b[0m\u001b[1;33m:\u001b[0m\u001b[1;33m\u001b[0m\u001b[1;33m\u001b[0m\u001b[0m\n\u001b[0;32m   3886\u001b[0m             \u001b[1;32mif\u001b[0m \u001b[0mlabels\u001b[0m \u001b[1;32mis\u001b[0m \u001b[1;32mnot\u001b[0m \u001b[1;32mNone\u001b[0m\u001b[1;33m:\u001b[0m\u001b[1;33m\u001b[0m\u001b[1;33m\u001b[0m\u001b[0m\n\u001b[1;32m-> 3887\u001b[1;33m                 \u001b[0mobj\u001b[0m \u001b[1;33m=\u001b[0m \u001b[0mobj\u001b[0m\u001b[1;33m.\u001b[0m\u001b[0m_drop_axis\u001b[0m\u001b[1;33m(\u001b[0m\u001b[0mlabels\u001b[0m\u001b[1;33m,\u001b[0m \u001b[0maxis\u001b[0m\u001b[1;33m,\u001b[0m \u001b[0mlevel\u001b[0m\u001b[1;33m=\u001b[0m\u001b[0mlevel\u001b[0m\u001b[1;33m,\u001b[0m \u001b[0merrors\u001b[0m\u001b[1;33m=\u001b[0m\u001b[0merrors\u001b[0m\u001b[1;33m)\u001b[0m\u001b[1;33m\u001b[0m\u001b[1;33m\u001b[0m\u001b[0m\n\u001b[0m\u001b[0;32m   3888\u001b[0m \u001b[1;33m\u001b[0m\u001b[0m\n\u001b[0;32m   3889\u001b[0m         \u001b[1;32mif\u001b[0m \u001b[0minplace\u001b[0m\u001b[1;33m:\u001b[0m\u001b[1;33m\u001b[0m\u001b[1;33m\u001b[0m\u001b[0m\n",
      "\u001b[1;32m~\\anaconda3\\lib\\site-packages\\pandas\\core\\generic.py\u001b[0m in \u001b[0;36m_drop_axis\u001b[1;34m(self, labels, axis, level, errors)\u001b[0m\n\u001b[0;32m   3919\u001b[0m                 \u001b[0mnew_axis\u001b[0m \u001b[1;33m=\u001b[0m \u001b[0maxis\u001b[0m\u001b[1;33m.\u001b[0m\u001b[0mdrop\u001b[0m\u001b[1;33m(\u001b[0m\u001b[0mlabels\u001b[0m\u001b[1;33m,\u001b[0m \u001b[0mlevel\u001b[0m\u001b[1;33m=\u001b[0m\u001b[0mlevel\u001b[0m\u001b[1;33m,\u001b[0m \u001b[0merrors\u001b[0m\u001b[1;33m=\u001b[0m\u001b[0merrors\u001b[0m\u001b[1;33m)\u001b[0m\u001b[1;33m\u001b[0m\u001b[1;33m\u001b[0m\u001b[0m\n\u001b[0;32m   3920\u001b[0m             \u001b[1;32melse\u001b[0m\u001b[1;33m:\u001b[0m\u001b[1;33m\u001b[0m\u001b[1;33m\u001b[0m\u001b[0m\n\u001b[1;32m-> 3921\u001b[1;33m                 \u001b[0mnew_axis\u001b[0m \u001b[1;33m=\u001b[0m \u001b[0maxis\u001b[0m\u001b[1;33m.\u001b[0m\u001b[0mdrop\u001b[0m\u001b[1;33m(\u001b[0m\u001b[0mlabels\u001b[0m\u001b[1;33m,\u001b[0m \u001b[0merrors\u001b[0m\u001b[1;33m=\u001b[0m\u001b[0merrors\u001b[0m\u001b[1;33m)\u001b[0m\u001b[1;33m\u001b[0m\u001b[1;33m\u001b[0m\u001b[0m\n\u001b[0m\u001b[0;32m   3922\u001b[0m             \u001b[0mresult\u001b[0m \u001b[1;33m=\u001b[0m \u001b[0mself\u001b[0m\u001b[1;33m.\u001b[0m\u001b[0mreindex\u001b[0m\u001b[1;33m(\u001b[0m\u001b[1;33m**\u001b[0m\u001b[1;33m{\u001b[0m\u001b[0maxis_name\u001b[0m\u001b[1;33m:\u001b[0m \u001b[0mnew_axis\u001b[0m\u001b[1;33m}\u001b[0m\u001b[1;33m)\u001b[0m\u001b[1;33m\u001b[0m\u001b[1;33m\u001b[0m\u001b[0m\n\u001b[0;32m   3923\u001b[0m \u001b[1;33m\u001b[0m\u001b[0m\n",
      "\u001b[1;32m~\\anaconda3\\lib\\site-packages\\pandas\\core\\indexes\\base.py\u001b[0m in \u001b[0;36mdrop\u001b[1;34m(self, labels, errors)\u001b[0m\n\u001b[0;32m   5280\u001b[0m         \u001b[1;32mif\u001b[0m \u001b[0mmask\u001b[0m\u001b[1;33m.\u001b[0m\u001b[0many\u001b[0m\u001b[1;33m(\u001b[0m\u001b[1;33m)\u001b[0m\u001b[1;33m:\u001b[0m\u001b[1;33m\u001b[0m\u001b[1;33m\u001b[0m\u001b[0m\n\u001b[0;32m   5281\u001b[0m             \u001b[1;32mif\u001b[0m \u001b[0merrors\u001b[0m \u001b[1;33m!=\u001b[0m \u001b[1;34m\"ignore\"\u001b[0m\u001b[1;33m:\u001b[0m\u001b[1;33m\u001b[0m\u001b[1;33m\u001b[0m\u001b[0m\n\u001b[1;32m-> 5282\u001b[1;33m                 \u001b[1;32mraise\u001b[0m \u001b[0mKeyError\u001b[0m\u001b[1;33m(\u001b[0m\u001b[1;34mf\"{labels[mask]} not found in axis\"\u001b[0m\u001b[1;33m)\u001b[0m\u001b[1;33m\u001b[0m\u001b[1;33m\u001b[0m\u001b[0m\n\u001b[0m\u001b[0;32m   5283\u001b[0m             \u001b[0mindexer\u001b[0m \u001b[1;33m=\u001b[0m \u001b[0mindexer\u001b[0m\u001b[1;33m[\u001b[0m\u001b[1;33m~\u001b[0m\u001b[0mmask\u001b[0m\u001b[1;33m]\u001b[0m\u001b[1;33m\u001b[0m\u001b[1;33m\u001b[0m\u001b[0m\n\u001b[0;32m   5284\u001b[0m         \u001b[1;32mreturn\u001b[0m \u001b[0mself\u001b[0m\u001b[1;33m.\u001b[0m\u001b[0mdelete\u001b[0m\u001b[1;33m(\u001b[0m\u001b[0mindexer\u001b[0m\u001b[1;33m)\u001b[0m\u001b[1;33m\u001b[0m\u001b[1;33m\u001b[0m\u001b[0m\n",
      "\u001b[1;31mKeyError\u001b[0m: \"['ethnic_African American' 'ethnic_Asian' 'ethnic_Caucasian'\\n 'ethnic_Caucasian' 'ethnic_Native American' 'ethnic_Other/Unknown'] not found in axis\""
     ]
    }
   ],
   "source": [
    "# Assuming 'columns_to_delete' is a list of column names you want to delete\n",
    "\n",
    "\n",
    "# Deleting the specified columns from the DataFrame\n",
    "test_Demographics.drop(columns=[ 'ethnic_African American', 'ethnic_Asian', 'ethnic_Caucasian','ethnic_Caucasian', 'ethnic_Native American','ethnic_Other/Unknown'], inplace=True)\n",
    "\n"
   ]
  },
  {
   "cell_type": "code",
   "execution_count": 41,
   "metadata": {},
   "outputs": [
    {
     "data": {
      "text/html": [
       "<div>\n",
       "<style scoped>\n",
       "    .dataframe tbody tr th:only-of-type {\n",
       "        vertical-align: middle;\n",
       "    }\n",
       "\n",
       "    .dataframe tbody tr th {\n",
       "        vertical-align: top;\n",
       "    }\n",
       "\n",
       "    .dataframe thead th {\n",
       "        text-align: right;\n",
       "    }\n",
       "</style>\n",
       "<table border=\"1\" class=\"dataframe\">\n",
       "  <thead>\n",
       "    <tr style=\"text-align: right;\">\n",
       "      <th></th>\n",
       "      <th>id</th>\n",
       "      <th>age_yrs</th>\n",
       "      <th>ethnic_group</th>\n",
       "      <th>gender_identity</th>\n",
       "      <th>weight_kg</th>\n",
       "      <th>height_cm</th>\n",
       "      <th>body_mass_index</th>\n",
       "    </tr>\n",
       "  </thead>\n",
       "  <tbody>\n",
       "    <tr>\n",
       "      <th>0</th>\n",
       "      <td>214826</td>\n",
       "      <td>68.0</td>\n",
       "      <td>Caucasian</td>\n",
       "      <td>M</td>\n",
       "      <td>73.9</td>\n",
       "      <td>180.3</td>\n",
       "      <td>22.732803</td>\n",
       "    </tr>\n",
       "    <tr>\n",
       "      <th>1</th>\n",
       "      <td>190593</td>\n",
       "      <td>68.0</td>\n",
       "      <td>Caucasian</td>\n",
       "      <td>M</td>\n",
       "      <td>82.2</td>\n",
       "      <td>172.7</td>\n",
       "      <td>27.560503</td>\n",
       "    </tr>\n",
       "    <tr>\n",
       "      <th>2</th>\n",
       "      <td>244158</td>\n",
       "      <td>45.0</td>\n",
       "      <td>Caucasian</td>\n",
       "      <td>M</td>\n",
       "      <td>116.6</td>\n",
       "      <td>190.5</td>\n",
       "      <td>32.129842</td>\n",
       "    </tr>\n",
       "    <tr>\n",
       "      <th>3</th>\n",
       "      <td>238278</td>\n",
       "      <td>71.0</td>\n",
       "      <td>Caucasian</td>\n",
       "      <td>M</td>\n",
       "      <td>121.7</td>\n",
       "      <td>177.8</td>\n",
       "      <td>38.497016</td>\n",
       "    </tr>\n",
       "    <tr>\n",
       "      <th>4</th>\n",
       "      <td>198305</td>\n",
       "      <td>65.0</td>\n",
       "      <td>African American</td>\n",
       "      <td>M</td>\n",
       "      <td>78.4</td>\n",
       "      <td>172.7</td>\n",
       "      <td>26.286417</td>\n",
       "    </tr>\n",
       "  </tbody>\n",
       "</table>\n",
       "</div>"
      ],
      "text/plain": [
       "       id  age_yrs      ethnic_group gender_identity  weight_kg  height_cm  \\\n",
       "0  214826     68.0         Caucasian               M       73.9      180.3   \n",
       "1  190593     68.0         Caucasian               M       82.2      172.7   \n",
       "2  244158     45.0         Caucasian               M      116.6      190.5   \n",
       "3  238278     71.0         Caucasian               M      121.7      177.8   \n",
       "4  198305     65.0  African American               M       78.4      172.7   \n",
       "\n",
       "   body_mass_index  \n",
       "0        22.732803  \n",
       "1        27.560503  \n",
       "2        32.129842  \n",
       "3        38.497016  \n",
       "4        26.286417  "
      ]
     },
     "execution_count": 41,
     "metadata": {},
     "output_type": "execute_result"
    }
   ],
   "source": [
    "test_Demographics.head()"
   ]
  },
  {
   "cell_type": "code",
   "execution_count": null,
   "metadata": {},
   "outputs": [],
   "source": [
    "test_Demographics.drop(columns=['ethnic_Hispanic'], inplace=True)\n"
   ]
  },
  {
   "cell_type": "code",
   "execution_count": 42,
   "metadata": {},
   "outputs": [
    {
     "data": {
      "text/html": [
       "<div>\n",
       "<style scoped>\n",
       "    .dataframe tbody tr th:only-of-type {\n",
       "        vertical-align: middle;\n",
       "    }\n",
       "\n",
       "    .dataframe tbody tr th {\n",
       "        vertical-align: top;\n",
       "    }\n",
       "\n",
       "    .dataframe thead th {\n",
       "        text-align: right;\n",
       "    }\n",
       "</style>\n",
       "<table border=\"1\" class=\"dataframe\">\n",
       "  <thead>\n",
       "    <tr style=\"text-align: right;\">\n",
       "      <th></th>\n",
       "      <th>id</th>\n",
       "      <th>age_yrs</th>\n",
       "      <th>ethnic_group</th>\n",
       "      <th>gender_identity</th>\n",
       "      <th>weight_kg</th>\n",
       "      <th>height_cm</th>\n",
       "      <th>body_mass_index</th>\n",
       "    </tr>\n",
       "  </thead>\n",
       "  <tbody>\n",
       "    <tr>\n",
       "      <th>0</th>\n",
       "      <td>214826</td>\n",
       "      <td>68.0</td>\n",
       "      <td>Caucasian</td>\n",
       "      <td>M</td>\n",
       "      <td>73.9</td>\n",
       "      <td>180.3</td>\n",
       "      <td>22.732803</td>\n",
       "    </tr>\n",
       "    <tr>\n",
       "      <th>1</th>\n",
       "      <td>190593</td>\n",
       "      <td>68.0</td>\n",
       "      <td>Caucasian</td>\n",
       "      <td>M</td>\n",
       "      <td>82.2</td>\n",
       "      <td>172.7</td>\n",
       "      <td>27.560503</td>\n",
       "    </tr>\n",
       "    <tr>\n",
       "      <th>2</th>\n",
       "      <td>244158</td>\n",
       "      <td>45.0</td>\n",
       "      <td>Caucasian</td>\n",
       "      <td>M</td>\n",
       "      <td>116.6</td>\n",
       "      <td>190.5</td>\n",
       "      <td>32.129842</td>\n",
       "    </tr>\n",
       "    <tr>\n",
       "      <th>3</th>\n",
       "      <td>238278</td>\n",
       "      <td>71.0</td>\n",
       "      <td>Caucasian</td>\n",
       "      <td>M</td>\n",
       "      <td>121.7</td>\n",
       "      <td>177.8</td>\n",
       "      <td>38.497016</td>\n",
       "    </tr>\n",
       "    <tr>\n",
       "      <th>4</th>\n",
       "      <td>198305</td>\n",
       "      <td>65.0</td>\n",
       "      <td>African American</td>\n",
       "      <td>M</td>\n",
       "      <td>78.4</td>\n",
       "      <td>172.7</td>\n",
       "      <td>26.286417</td>\n",
       "    </tr>\n",
       "  </tbody>\n",
       "</table>\n",
       "</div>"
      ],
      "text/plain": [
       "       id  age_yrs      ethnic_group gender_identity  weight_kg  height_cm  \\\n",
       "0  214826     68.0         Caucasian               M       73.9      180.3   \n",
       "1  190593     68.0         Caucasian               M       82.2      172.7   \n",
       "2  244158     45.0         Caucasian               M      116.6      190.5   \n",
       "3  238278     71.0         Caucasian               M      121.7      177.8   \n",
       "4  198305     65.0  African American               M       78.4      172.7   \n",
       "\n",
       "   body_mass_index  \n",
       "0        22.732803  \n",
       "1        27.560503  \n",
       "2        32.129842  \n",
       "3        38.497016  \n",
       "4        26.286417  "
      ]
     },
     "execution_count": 42,
     "metadata": {},
     "output_type": "execute_result"
    }
   ],
   "source": [
    "test_Demographics.head()"
   ]
  },
  {
   "cell_type": "code",
   "execution_count": 43,
   "metadata": {},
   "outputs": [
    {
     "data": {
      "text/plain": [
       "(26032, 11)"
      ]
     },
     "execution_count": 43,
     "metadata": {},
     "output_type": "execute_result"
    }
   ],
   "source": [
    "# Convert 'ethnic_group' to a numerical feature using pandas get_dummies\n",
    "test_Demographics = pd.get_dummies(test_Demographics, columns=['ethnic_group'], drop_first=True)\n",
    "\n",
    "# Display the first few rows to verify the transformation\n",
    "test_Demographics.head()\n",
    "test_Demographics.shape"
   ]
  },
  {
   "cell_type": "code",
   "execution_count": 44,
   "metadata": {},
   "outputs": [
    {
     "data": {
      "text/plain": [
       "array(['M', 'M', 'M', ..., 'M', 'F', 'M'], dtype=object)"
      ]
     },
     "execution_count": 44,
     "metadata": {},
     "output_type": "execute_result"
    }
   ],
   "source": [
    "test_Demographics['gender_identity'].values\n"
   ]
  },
  {
   "cell_type": "code",
   "execution_count": 45,
   "metadata": {},
   "outputs": [],
   "source": [
    "# Mapping 'M' to 1 and 'F' to 0 in the 'gender_identity' column\n",
    "test_Demographics['gender_identity'] = test_Demographics['gender_identity'].map({'M': 1, 'F': 0})\n"
   ]
  },
  {
   "cell_type": "code",
   "execution_count": 46,
   "metadata": {},
   "outputs": [
    {
     "data": {
      "text/html": [
       "<div>\n",
       "<style scoped>\n",
       "    .dataframe tbody tr th:only-of-type {\n",
       "        vertical-align: middle;\n",
       "    }\n",
       "\n",
       "    .dataframe tbody tr th {\n",
       "        vertical-align: top;\n",
       "    }\n",
       "\n",
       "    .dataframe thead th {\n",
       "        text-align: right;\n",
       "    }\n",
       "</style>\n",
       "<table border=\"1\" class=\"dataframe\">\n",
       "  <thead>\n",
       "    <tr style=\"text-align: right;\">\n",
       "      <th></th>\n",
       "      <th>id</th>\n",
       "      <th>age_yrs</th>\n",
       "      <th>gender_identity</th>\n",
       "      <th>weight_kg</th>\n",
       "      <th>height_cm</th>\n",
       "      <th>body_mass_index</th>\n",
       "      <th>ethnic_group_Asian</th>\n",
       "      <th>ethnic_group_Caucasian</th>\n",
       "      <th>ethnic_group_Hispanic</th>\n",
       "      <th>ethnic_group_Native American</th>\n",
       "      <th>ethnic_group_Other/Unknown</th>\n",
       "    </tr>\n",
       "  </thead>\n",
       "  <tbody>\n",
       "    <tr>\n",
       "      <th>0</th>\n",
       "      <td>214826</td>\n",
       "      <td>68.0</td>\n",
       "      <td>1.0</td>\n",
       "      <td>73.9</td>\n",
       "      <td>180.3</td>\n",
       "      <td>22.732803</td>\n",
       "      <td>0</td>\n",
       "      <td>1</td>\n",
       "      <td>0</td>\n",
       "      <td>0</td>\n",
       "      <td>0</td>\n",
       "    </tr>\n",
       "    <tr>\n",
       "      <th>1</th>\n",
       "      <td>190593</td>\n",
       "      <td>68.0</td>\n",
       "      <td>1.0</td>\n",
       "      <td>82.2</td>\n",
       "      <td>172.7</td>\n",
       "      <td>27.560503</td>\n",
       "      <td>0</td>\n",
       "      <td>1</td>\n",
       "      <td>0</td>\n",
       "      <td>0</td>\n",
       "      <td>0</td>\n",
       "    </tr>\n",
       "    <tr>\n",
       "      <th>2</th>\n",
       "      <td>244158</td>\n",
       "      <td>45.0</td>\n",
       "      <td>1.0</td>\n",
       "      <td>116.6</td>\n",
       "      <td>190.5</td>\n",
       "      <td>32.129842</td>\n",
       "      <td>0</td>\n",
       "      <td>1</td>\n",
       "      <td>0</td>\n",
       "      <td>0</td>\n",
       "      <td>0</td>\n",
       "    </tr>\n",
       "    <tr>\n",
       "      <th>3</th>\n",
       "      <td>238278</td>\n",
       "      <td>71.0</td>\n",
       "      <td>1.0</td>\n",
       "      <td>121.7</td>\n",
       "      <td>177.8</td>\n",
       "      <td>38.497016</td>\n",
       "      <td>0</td>\n",
       "      <td>1</td>\n",
       "      <td>0</td>\n",
       "      <td>0</td>\n",
       "      <td>0</td>\n",
       "    </tr>\n",
       "    <tr>\n",
       "      <th>4</th>\n",
       "      <td>198305</td>\n",
       "      <td>65.0</td>\n",
       "      <td>1.0</td>\n",
       "      <td>78.4</td>\n",
       "      <td>172.7</td>\n",
       "      <td>26.286417</td>\n",
       "      <td>0</td>\n",
       "      <td>0</td>\n",
       "      <td>0</td>\n",
       "      <td>0</td>\n",
       "      <td>0</td>\n",
       "    </tr>\n",
       "  </tbody>\n",
       "</table>\n",
       "</div>"
      ],
      "text/plain": [
       "       id  age_yrs  gender_identity  weight_kg  height_cm  body_mass_index  \\\n",
       "0  214826     68.0              1.0       73.9      180.3        22.732803   \n",
       "1  190593     68.0              1.0       82.2      172.7        27.560503   \n",
       "2  244158     45.0              1.0      116.6      190.5        32.129842   \n",
       "3  238278     71.0              1.0      121.7      177.8        38.497016   \n",
       "4  198305     65.0              1.0       78.4      172.7        26.286417   \n",
       "\n",
       "   ethnic_group_Asian  ethnic_group_Caucasian  ethnic_group_Hispanic  \\\n",
       "0                   0                       1                      0   \n",
       "1                   0                       1                      0   \n",
       "2                   0                       1                      0   \n",
       "3                   0                       1                      0   \n",
       "4                   0                       0                      0   \n",
       "\n",
       "   ethnic_group_Native American  ethnic_group_Other/Unknown  \n",
       "0                             0                           0  \n",
       "1                             0                           0  \n",
       "2                             0                           0  \n",
       "3                             0                           0  \n",
       "4                             0                           0  "
      ]
     },
     "execution_count": 46,
     "metadata": {},
     "output_type": "execute_result"
    }
   ],
   "source": [
    "test_Demographics.head()\n"
   ]
  },
  {
   "cell_type": "code",
   "execution_count": 47,
   "metadata": {},
   "outputs": [
    {
     "data": {
      "text/plain": [
       "id                                0\n",
       "age_yrs                           0\n",
       "gender_identity                  11\n",
       "weight_kg                       676\n",
       "height_cm                       441\n",
       "body_mass_index                 905\n",
       "ethnic_group_Asian                0\n",
       "ethnic_group_Caucasian            0\n",
       "ethnic_group_Hispanic             0\n",
       "ethnic_group_Native American      0\n",
       "ethnic_group_Other/Unknown        0\n",
       "dtype: int64"
      ]
     },
     "execution_count": 47,
     "metadata": {},
     "output_type": "execute_result"
    }
   ],
   "source": [
    "test_Demographics.isnull().sum()"
   ]
  },
  {
   "cell_type": "code",
   "execution_count": 48,
   "metadata": {},
   "outputs": [
    {
     "data": {
      "image/png": "[encoded data removed]",
      "text/plain": [
       "<Figure size 576x432 with 1 Axes>"
      ]
     },
     "metadata": {
      "needs_background": "light"
     },
     "output_type": "display_data"
    }
   ],
   "source": [
    "import matplotlib.pyplot as plt\n",
    "\n",
    "# Plot histogram of the 'weight_kg' feature\n",
    "plt.figure(figsize=(8, 6))\n",
    "plt.hist(test_Demographics['weight_kg'], bins=30, color='skyblue', edgecolor='black')\n",
    "plt.title('Histogram of Weight (kg)')\n",
    "plt.xlabel('Weight (kg)')\n",
    "plt.ylabel('Frequency')\n",
    "plt.grid(True)\n",
    "plt.show()\n"
   ]
  },
  {
   "cell_type": "code",
   "execution_count": 49,
   "metadata": {},
   "outputs": [
    {
     "data": {
      "text/plain": [
       "(26032, 11)"
      ]
     },
     "execution_count": 49,
     "metadata": {},
     "output_type": "execute_result"
    }
   ],
   "source": [
    "# Calculate the mean of the 'weight_kg' column\n",
    "mean_weight = test_Demographics['weight_kg'].mean()\n",
    "\n",
    "# Replace missing values in 'weight_kg' with the mean\n",
    "test_Demographics['weight_kg'].fillna(mean_weight, inplace=True)\n",
    "\n",
    "test_Demographics.shape"
   ]
  },
  {
   "cell_type": "code",
   "execution_count": 50,
   "metadata": {},
   "outputs": [
    {
     "data": {
      "image/png": "[encoded data removed]",
      "text/plain": [
       "<Figure size 576x432 with 1 Axes>"
      ]
     },
     "metadata": {
      "needs_background": "light"
     },
     "output_type": "display_data"
    }
   ],
   "source": [
    "import matplotlib.pyplot as plt\n",
    "\n",
    "# Plot histogram of the 'weight_kg' feature\n",
    "plt.figure(figsize=(8, 6))\n",
    "plt.hist(test_Demographics['weight_kg'], bins=30, color='skyblue', edgecolor='black')\n",
    "plt.title('Histogram of Weight (kg)')\n",
    "plt.xlabel('height_cm ')\n",
    "plt.ylabel('Frequency')\n",
    "plt.grid(True)\n",
    "plt.show()"
   ]
  },
  {
   "cell_type": "code",
   "execution_count": 51,
   "metadata": {},
   "outputs": [],
   "source": [
    "# Calculate the mean of the 'height_cm' column\n",
    "mean_height= test_Demographics['height_cm'].mean()\n",
    "\n",
    "# Replace missing values in 'height_cm' with the mean\n",
    "test_Demographics['height_cm'].fillna(mean_height, inplace=True)"
   ]
  },
  {
   "cell_type": "code",
   "execution_count": 52,
   "metadata": {
    "scrolled": true
   },
   "outputs": [
    {
     "data": {
      "text/plain": [
       "id                                0\n",
       "age_yrs                           0\n",
       "gender_identity                  11\n",
       "weight_kg                         0\n",
       "height_cm                         0\n",
       "body_mass_index                 905\n",
       "ethnic_group_Asian                0\n",
       "ethnic_group_Caucasian            0\n",
       "ethnic_group_Hispanic             0\n",
       "ethnic_group_Native American      0\n",
       "ethnic_group_Other/Unknown        0\n",
       "dtype: int64"
      ]
     },
     "execution_count": 52,
     "metadata": {},
     "output_type": "execute_result"
    }
   ],
   "source": [
    "test_Demographics.isnull().sum()"
   ]
  },
  {
   "cell_type": "code",
   "execution_count": 53,
   "metadata": {},
   "outputs": [
    {
     "data": {
      "image/png": "[encoded data removed]",
      "text/plain": [
       "<Figure size 576x432 with 1 Axes>"
      ]
     },
     "metadata": {
      "needs_background": "light"
     },
     "output_type": "display_data"
    }
   ],
   "source": [
    "import matplotlib.pyplot as plt\n",
    "\n",
    "# Plot histogram of the 'weight_kg' feature\n",
    "plt.figure(figsize=(8, 6))\n",
    "plt.hist(test_Demographics['body_mass_index'], bins=30, color='skyblue', edgecolor='black')\n",
    "plt.title('Histogram of Weight (kg)')\n",
    "plt.xlabel('Weight (kg)')\n",
    "plt.ylabel('Frequency')\n",
    "plt.grid(True)\n",
    "plt.show()"
   ]
  },
  {
   "cell_type": "code",
   "execution_count": 54,
   "metadata": {},
   "outputs": [],
   "source": [
    "# Calculate the mean of the 'height_cm' column\n",
    "mean_height= test_Demographics['body_mass_index'].mean()\n",
    "\n",
    "# Replace missing values in 'height_cm' with the mean\n",
    "test_Demographics['body_mass_index'].fillna(mean_height, inplace=True)"
   ]
  },
  {
   "cell_type": "code",
   "execution_count": 55,
   "metadata": {},
   "outputs": [
    {
     "data": {
      "text/plain": [
       "id                               0\n",
       "age_yrs                          0\n",
       "gender_identity                 11\n",
       "weight_kg                        0\n",
       "height_cm                        0\n",
       "body_mass_index                  0\n",
       "ethnic_group_Asian               0\n",
       "ethnic_group_Caucasian           0\n",
       "ethnic_group_Hispanic            0\n",
       "ethnic_group_Native American     0\n",
       "ethnic_group_Other/Unknown       0\n",
       "dtype: int64"
      ]
     },
     "execution_count": 55,
     "metadata": {},
     "output_type": "execute_result"
    }
   ],
   "source": [
    "test_Demographics.isnull().sum()"
   ]
  },
  {
   "cell_type": "code",
   "execution_count": null,
   "metadata": {},
   "outputs": [],
   "source": []
  },
  {
   "cell_type": "code",
   "execution_count": 56,
   "metadata": {},
   "outputs": [
    {
     "data": {
      "text/plain": [
       "id                               0\n",
       "age_yrs                          0\n",
       "gender_identity                 11\n",
       "weight_kg                        0\n",
       "height_cm                        0\n",
       "body_mass_index                  0\n",
       "ethnic_group_Asian               0\n",
       "ethnic_group_Caucasian           0\n",
       "ethnic_group_Hispanic            0\n",
       "ethnic_group_Native American     0\n",
       "ethnic_group_Other/Unknown       0\n",
       "dtype: int64"
      ]
     },
     "execution_count": 56,
     "metadata": {},
     "output_type": "execute_result"
    }
   ],
   "source": [
    "test_Demographics.isnull().sum()"
   ]
  },
  {
   "cell_type": "code",
   "execution_count": 73,
   "metadata": {},
   "outputs": [],
   "source": [
    "# Calculate the most frequent value in the 'gender_identity' column\n",
    "most_frequent_gender = test_Demographics['gender_identity'].mode()[0]\n",
    "\n",
    "# Replace missing values in the 'gender_identity' column with the most frequent value\n",
    "test_Demographics['gender_identity'].fillna(most_frequent_gender, inplace=True) \n",
    "\n"
   ]
  },
  {
   "cell_type": "code",
   "execution_count": 74,
   "metadata": {},
   "outputs": [
    {
     "data": {
      "text/plain": [
       "(26032, 11)"
      ]
     },
     "execution_count": 74,
     "metadata": {},
     "output_type": "execute_result"
    }
   ],
   "source": [
    "test_Demographics.isnull().sum()\n",
    "test_Demographics.shape"
   ]
  },
  {
   "cell_type": "code",
   "execution_count": 75,
   "metadata": {},
   "outputs": [
    {
     "data": {
      "text/plain": [
       "(26032, 29)"
      ]
     },
     "execution_count": 75,
     "metadata": {},
     "output_type": "execute_result"
    }
   ],
   "source": [
    "test_Laboratory_Findings=pd.read_csv('./data (1)/data/Testing/test_Laboratory_Findings.csv')\n",
    "test_Laboratory_Findings.head() \n",
    "test_Laboratory_Findings.shape"
   ]
  },
  {
   "cell_type": "code",
   "execution_count": 76,
   "metadata": {},
   "outputs": [
    {
     "data": {
      "text/plain": [
       "id                         0\n",
       "OBS1_albumin_max       14258\n",
       "OBS1_albumin_min       14258\n",
       "OBS2_albumin_max       23857\n",
       "OBS2_albumin_min       23857\n",
       "OBS1_bilirubin_max     15286\n",
       "OBS1_bilirubin_min     15286\n",
       "OBS2_bilirubin_max     24015\n",
       "OBS2_bilirubin_min     24015\n",
       "OBS1_bun_max            2765\n",
       "OBS1_bun_min            2765\n",
       "OBS2_bun_max           21093\n",
       "OBS2_bun_min           21093\n",
       "OBS1_creatinine_max     2676\n",
       "OBS1_creatinine_min     2676\n",
       "OBS2_creatinine_max    21034\n",
       "OBS2_creatinine_min    21034\n",
       "OBS1_glucose_max        1643\n",
       "OBS1_glucose_min        1643\n",
       "OBS2_glucose_max       14934\n",
       "OBS2_glucose_min       14934\n",
       "OBS1_hematocrit_max     3110\n",
       "OBS1_hematocrit_min     3110\n",
       "OBS2_hematocrit_max    20627\n",
       "OBS2_hematocrit_min    20627\n",
       "OBS1_sodium_max         2672\n",
       "OBS1_sodium_min         2672\n",
       "OBS2_sodium_max        20407\n",
       "OBS2_sodium_min        20407\n",
       "dtype: int64"
      ]
     },
     "execution_count": 76,
     "metadata": {},
     "output_type": "execute_result"
    }
   ],
   "source": [
    "test_Laboratory_Findings.isnull().sum()"
   ]
  },
  {
   "cell_type": "code",
   "execution_count": 61,
   "metadata": {},
   "outputs": [
    {
     "name": "stdout",
     "output_type": "stream",
     "text": [
      "Missing Values Percentage:\n",
      "id                      0.00\n",
      "OBS1_albumin_max       54.77\n",
      "OBS1_albumin_min       54.77\n",
      "OBS2_albumin_max       91.64\n",
      "OBS2_albumin_min       91.64\n",
      "OBS1_bilirubin_max     58.72\n",
      "OBS1_bilirubin_min     58.72\n",
      "OBS2_bilirubin_max     92.25\n",
      "OBS2_bilirubin_min     92.25\n",
      "OBS1_bun_max           10.62\n",
      "OBS1_bun_min           10.62\n",
      "OBS2_bun_max           81.03\n",
      "OBS2_bun_min           81.03\n",
      "OBS1_creatinine_max    10.28\n",
      "OBS1_creatinine_min    10.28\n",
      "OBS2_creatinine_max    80.80\n",
      "OBS2_creatinine_min    80.80\n",
      "OBS1_glucose_max        6.31\n",
      "OBS1_glucose_min        6.31\n",
      "OBS2_glucose_max       57.37\n",
      "OBS2_glucose_min       57.37\n",
      "OBS1_hematocrit_max    11.95\n",
      "OBS1_hematocrit_min    11.95\n",
      "OBS2_hematocrit_max    79.24\n",
      "OBS2_hematocrit_min    79.24\n",
      "OBS1_sodium_max        10.26\n",
      "OBS1_sodium_min        10.26\n",
      "OBS2_sodium_max        78.39\n",
      "OBS2_sodium_min        78.39\n",
      "dtype: float64\n"
     ]
    },
    {
     "data": {
      "text/plain": [
       "(26032, 29)"
      ]
     },
     "execution_count": 61,
     "metadata": {},
     "output_type": "execute_result"
    }
   ],
   "source": [
    "# Calculate the percentage of missing values in each column\n",
    "missing_values_percentage = (test_Laboratory_Findings.isnull().mean() * 100).round(2)\n",
    "\n",
    "# Display the missing values percentage for each column\n",
    "print(\"Missing Values Percentage:\")\n",
    "print(missing_values_percentage)\n",
    "test_Laboratory_Findings.shape"
   ]
  },
  {
   "cell_type": "code",
   "execution_count": 77,
   "metadata": {},
   "outputs": [
    {
     "data": {
      "text/plain": [
       "(26032, 29)"
      ]
     },
     "execution_count": 77,
     "metadata": {},
     "output_type": "execute_result"
    }
   ],
   "source": [
    "# Replace missing values in each column with the mean of that column\n",
    "test_Laboratory_Findings.fillna(test_Laboratory_Findings.mean(), inplace=True)\n",
    "test_Laboratory_Findings.shape"
   ]
  },
  {
   "cell_type": "code",
   "execution_count": 78,
   "metadata": {},
   "outputs": [
    {
     "data": {
      "text/plain": [
       "(26032, 29)"
      ]
     },
     "execution_count": 78,
     "metadata": {},
     "output_type": "execute_result"
    }
   ],
   "source": [
    "test_Laboratory_Findings.isnull().sum()\n",
    "test_Laboratory_Findings.shape "
   ]
  },
  {
   "cell_type": "code",
   "execution_count": 79,
   "metadata": {},
   "outputs": [
    {
     "name": "stdout",
     "output_type": "stream",
     "text": [
      "Missing Values Percentage:\n",
      "id                     0.0\n",
      "OBS1_albumin_max       0.0\n",
      "OBS1_albumin_min       0.0\n",
      "OBS2_albumin_max       0.0\n",
      "OBS2_albumin_min       0.0\n",
      "OBS1_bilirubin_max     0.0\n",
      "OBS1_bilirubin_min     0.0\n",
      "OBS2_bilirubin_max     0.0\n",
      "OBS2_bilirubin_min     0.0\n",
      "OBS1_bun_max           0.0\n",
      "OBS1_bun_min           0.0\n",
      "OBS2_bun_max           0.0\n",
      "OBS2_bun_min           0.0\n",
      "OBS1_creatinine_max    0.0\n",
      "OBS1_creatinine_min    0.0\n",
      "OBS2_creatinine_max    0.0\n",
      "OBS2_creatinine_min    0.0\n",
      "OBS1_glucose_max       0.0\n",
      "OBS1_glucose_min       0.0\n",
      "OBS2_glucose_max       0.0\n",
      "OBS2_glucose_min       0.0\n",
      "OBS1_hematocrit_max    0.0\n",
      "OBS1_hematocrit_min    0.0\n",
      "OBS2_hematocrit_max    0.0\n",
      "OBS2_hematocrit_min    0.0\n",
      "OBS1_sodium_max        0.0\n",
      "OBS1_sodium_min        0.0\n",
      "OBS2_sodium_max        0.0\n",
      "OBS2_sodium_min        0.0\n",
      "dtype: float64\n"
     ]
    }
   ],
   "source": [
    "# Calculate the percentage of missing values in each column\n",
    "missing_values_percentage = (test_Laboratory_Findings.isnull().mean() * 100).round(2)\n",
    "\n",
    "# Display the missing values percentage for each column\n",
    "print(\"Missing Values Percentage:\")\n",
    "print(missing_values_percentage)"
   ]
  },
  {
   "cell_type": "code",
   "execution_count": 87,
   "metadata": {},
   "outputs": [
    {
     "data": {
      "image/png": "[encoded data removed]",
      "text/plain": [
       "<Figure size 576x432 with 1 Axes>"
      ]
     },
     "metadata": {
      "needs_background": "light"
     },
     "output_type": "display_data"
    }
   ],
   "source": [
    "import matplotlib.pyplot as plt\n",
    "\n",
    "# Plot histogram of the 'weight_kg' feature\n",
    "plt.figure(figsize=(8, 6))\n",
    "plt.hist(test_Laboratory_Findings['OBS1_glucose_max'], bins=30, color='skyblue', edgecolor='black')\n",
    "plt.title('Histogram of Weight (kg)')\n",
    "plt.xlabel('Weight (kg)')\n",
    "plt.ylabel('Frequency')\n",
    "plt.grid(True)\n",
    "plt.show()"
   ]
  },
  {
   "cell_type": "code",
   "execution_count": 88,
   "metadata": {},
   "outputs": [],
   "source": [
    "# Calculate the mean of the 'height_cm' column\n",
    "mean_height= test_Laboratory_Findings['OBS1_glucose_max'].mean()\n",
    "\n",
    "# Replace missing values in 'height_cm' with the mean\n",
    "test_Laboratory_Findings['OBS1_glucose_max'].fillna(mean_height, inplace=True)"
   ]
  },
  {
   "cell_type": "code",
   "execution_count": 90,
   "metadata": {},
   "outputs": [
    {
     "data": {
      "image/png": "[encoded data removed]",
      "text/plain": [
       "<Figure size 576x432 with 1 Axes>"
      ]
     },
     "metadata": {
      "needs_background": "light"
     },
     "output_type": "display_data"
    }
   ],
   "source": [
    "import matplotlib.pyplot as plt\n",
    "\n",
    "# Plot histogram of the 'weight_kg' feature\n",
    "plt.figure(figsize=(8, 6))\n",
    "plt.hist(test_Laboratory_Findings['OBS1_glucose_min'], bins=30, color='skyblue', edgecolor='black')\n",
    "plt.title('Histogram of Weight (kg)')\n",
    "plt.xlabel('Weight (kg)')\n",
    "plt.ylabel('Frequency')\n",
    "plt.grid(True)\n",
    "plt.show()"
   ]
  },
  {
   "cell_type": "code",
   "execution_count": 94,
   "metadata": {},
   "outputs": [],
   "source": [
    "# Calculate the mean of the 'height_cm' column\n",
    "mean_height= test_Laboratory_Findings['OBS1_glucose_min'].mean()\n",
    "\n",
    "# Replace missing values in 'height_cm' with the mean\n",
    "test_Laboratory_Findings['OBS1_glucose_min'].fillna(mean_height, inplace=True)"
   ]
  },
  {
   "cell_type": "code",
   "execution_count": 93,
   "metadata": {},
   "outputs": [
    {
     "data": {
      "image/png": "[encoded data removed]",
      "text/plain": [
       "<Figure size 576x432 with 1 Axes>"
      ]
     },
     "metadata": {
      "needs_background": "light"
     },
     "output_type": "display_data"
    }
   ],
   "source": [
    "import matplotlib.pyplot as plt\n",
    "\n",
    "# Plot histogram of the 'weight_kg' feature\n",
    "plt.figure(figsize=(8, 6))\n",
    "plt.hist(test_Laboratory_Findings['OBS2_glucose_max'], bins=30, color='skyblue', edgecolor='black')\n",
    "plt.title('Histogram of Weight (kg)')\n",
    "plt.xlabel('Weight (kg)')\n",
    "plt.ylabel('Frequency')\n",
    "plt.grid(True)\n",
    "plt.show()"
   ]
  },
  {
   "cell_type": "code",
   "execution_count": 95,
   "metadata": {},
   "outputs": [],
   "source": [
    "# Calculate the mean of the 'height_cm' column\n",
    "mean_height= test_Laboratory_Findings['OBS2_glucose_max'].mean()\n",
    "\n",
    "# Replace missing values in 'height_cm' with the mean\n",
    "test_Laboratory_Findings['OBS2_glucose_max'].fillna(mean_height, inplace=True)"
   ]
  },
  {
   "cell_type": "code",
   "execution_count": 85,
   "metadata": {},
   "outputs": [
    {
     "data": {
      "image/png": "[encoded data removed]",
      "text/plain": [
       "<Figure size 576x432 with 1 Axes>"
      ]
     },
     "metadata": {
      "needs_background": "light"
     },
     "output_type": "display_data"
    }
   ],
   "source": [
    "import matplotlib.pyplot as plt\n",
    "\n",
    "# Plot histogram of the 'weight_kg' feature\n",
    "plt.figure(figsize=(8, 6))\n",
    "plt.hist(test_Laboratory_Findings['OBS2_glucose_min'], bins=30, color='skyblue', edgecolor='black')\n",
    "plt.title('Histogram of Weight (kg)')\n",
    "plt.xlabel('Weight (kg)')\n",
    "plt.ylabel('Frequency')\n",
    "plt.grid(True)\n",
    "plt.show()"
   ]
  },
  {
   "cell_type": "code",
   "execution_count": null,
   "metadata": {},
   "outputs": [],
   "source": [
    "# Calculate the mean of the 'height_cm' column\n",
    "mean_height= test_Laboratory_Findings['OBS2_glucose_min'].mean()\n",
    "\n",
    "# Replace missing values in 'height_cm' with the mean\n",
    "test_Laboratory_Findings['OBS2_glucose_min'].fillna(mean_height, inplace=True)"
   ]
  },
  {
   "cell_type": "code",
   "execution_count": 96,
   "metadata": {},
   "outputs": [
    {
     "data": {
      "text/plain": [
       "(26032, 29)"
      ]
     },
     "execution_count": 96,
     "metadata": {},
     "output_type": "execute_result"
    }
   ],
   "source": [
    "test_Laboratory_Findings.isnull().sum()\n",
    "test_Laboratory_Findings.shape"
   ]
  },
  {
   "cell_type": "code",
   "execution_count": 97,
   "metadata": {},
   "outputs": [
    {
     "data": {
      "text/plain": [
       "((26032, 29), (26032, 8))"
      ]
     },
     "execution_count": 97,
     "metadata": {},
     "output_type": "execute_result"
    }
   ],
   "source": [
    "test_Medical_History=pd.read_csv('./data (1)/data/Testing/test_Medical_History.csv')\n",
    "test_Medical_History.head()\n",
    "test_Laboratory_Findings.shape,test_Medical_History.shape"
   ]
  },
  {
   "cell_type": "code",
   "execution_count": 98,
   "metadata": {},
   "outputs": [
    {
     "data": {
      "text/plain": [
       "id                         0\n",
       "hiv_aids_status            0\n",
       "chronic_liver_disease      0\n",
       "liver_function_impaired    0\n",
       "immune_compromise          0\n",
       "blood_cancer               0\n",
       "lymphatic_cancer           0\n",
       "advanced_solid_tumor       0\n",
       "dtype: int64"
      ]
     },
     "execution_count": 98,
     "metadata": {},
     "output_type": "execute_result"
    }
   ],
   "source": [
    "test_Medical_History.isnull().sum()"
   ]
  },
  {
   "cell_type": "code",
   "execution_count": 100,
   "metadata": {},
   "outputs": [
    {
     "data": {
      "text/plain": [
       "(       id  OBS1_hrate_max  OBS1_hrate_min  OBS2_hrate_max  OBS2_hrate_min  \\\n",
       " 0  214826           119.0            72.0           119.0           108.0   \n",
       " 1  190593            90.0            57.0            69.0            65.0   \n",
       " 2  244158           132.0            84.0           126.0           122.0   \n",
       " 3  238278            96.0            70.0            88.0            82.0   \n",
       " 4  198305           132.0            96.0           132.0           120.0   \n",
       " \n",
       "    OBS1_reprate_max  OBS1_reprate_min  OBS2_reprate_max  OBS2_reprate_min  \\\n",
       " 0              34.0              10.0              26.0              18.0   \n",
       " 1              39.0               9.0              25.0               9.0   \n",
       " 2              27.0              14.0              27.0              16.0   \n",
       " 3              59.0               4.0              30.0              28.0   \n",
       " 4              44.0               0.0              44.0              10.0   \n",
       " \n",
       "    OBS1_sysb_max  ...  OBS2_sysb_max  OBS2_sysb_min  OBS1_diasb_max  \\\n",
       " 0          131.0  ...          131.0          115.0            68.0   \n",
       " 1          176.0  ...          176.0          119.0            80.0   \n",
       " 2          176.0  ...          156.0          155.0           116.0   \n",
       " 3          204.0  ...          163.0          136.0           105.0   \n",
       " 4          159.0  ...          148.0          111.0           106.0   \n",
       " \n",
       "    OBS1_diasb_min  OBS2_diasb_max  OBS2_diasb_min  OBS1_temper_max  \\\n",
       " 0            37.0            68.0            63.0             39.9   \n",
       " 1            51.0            79.0            57.0             36.7   \n",
       " 2            75.0           108.0            97.0             37.7   \n",
       " 3            51.0            78.0            74.0             38.2   \n",
       " 4            73.0            81.0            73.0             37.2   \n",
       " \n",
       "    OBS1_temper_min  OBS2_temper_max  OBS2_temper_min  \n",
       " 0             37.2             39.5             37.5  \n",
       " 1             36.4             36.4             36.4  \n",
       " 2             36.7             37.3             37.3  \n",
       " 3             36.7              NaN              NaN  \n",
       " 4             36.2             36.4             36.4  \n",
       " \n",
       " [5 rows x 21 columns],\n",
       " (26032, 21))"
      ]
     },
     "execution_count": 100,
     "metadata": {},
     "output_type": "execute_result"
    }
   ],
   "source": [
    "test_Vital_Signs=pd.read_csv('./data (1)/data/Testing/test_Vital_Signs.csv')\n",
    "test_Vital_Signs.head(),test_Vital_Signs.shape\n"
   ]
  },
  {
   "cell_type": "code",
   "execution_count": 101,
   "metadata": {},
   "outputs": [
    {
     "data": {
      "text/plain": [
       "id                     0\n",
       "OBS1_hrate_max        52\n",
       "OBS1_hrate_min        52\n",
       "OBS2_hrate_max       852\n",
       "OBS2_hrate_min       852\n",
       "OBS1_reprate_max     118\n",
       "OBS1_reprate_min     118\n",
       "OBS2_reprate_max    1325\n",
       "OBS2_reprate_min    1325\n",
       "OBS1_sysb_max         45\n",
       "OBS1_sysb_min         45\n",
       "OBS2_sysb_max       1108\n",
       "OBS2_sysb_min       1108\n",
       "OBS1_diasb_max        46\n",
       "OBS1_diasb_min        46\n",
       "OBS2_diasb_max      1109\n",
       "OBS2_diasb_min      1109\n",
       "OBS1_temper_max      908\n",
       "OBS1_temper_min      908\n",
       "OBS2_temper_max     5971\n",
       "OBS2_temper_min     5971\n",
       "dtype: int64"
      ]
     },
     "execution_count": 101,
     "metadata": {},
     "output_type": "execute_result"
    }
   ],
   "source": [
    "test_Vital_Signs.isnull().sum()\n",
    "\n",
    "\n",
    "\n"
   ]
  },
  {
   "cell_type": "code",
   "execution_count": 102,
   "metadata": {},
   "outputs": [
    {
     "name": "stdout",
     "output_type": "stream",
     "text": [
      "Missing Values Percentage:\n",
      "id                   0.00\n",
      "OBS1_hrate_max       0.20\n",
      "OBS1_hrate_min       0.20\n",
      "OBS2_hrate_max       3.27\n",
      "OBS2_hrate_min       3.27\n",
      "OBS1_reprate_max     0.45\n",
      "OBS1_reprate_min     0.45\n",
      "OBS2_reprate_max     5.09\n",
      "OBS2_reprate_min     5.09\n",
      "OBS1_sysb_max        0.17\n",
      "OBS1_sysb_min        0.17\n",
      "OBS2_sysb_max        4.26\n",
      "OBS2_sysb_min        4.26\n",
      "OBS1_diasb_max       0.18\n",
      "OBS1_diasb_min       0.18\n",
      "OBS2_diasb_max       4.26\n",
      "OBS2_diasb_min       4.26\n",
      "OBS1_temper_max      3.49\n",
      "OBS1_temper_min      3.49\n",
      "OBS2_temper_max     22.94\n",
      "OBS2_temper_min     22.94\n",
      "dtype: float64\n"
     ]
    }
   ],
   "source": [
    "# Calculate the percentage of missing values in each column\n",
    "missing_values_percentage = (test_Vital_Signs.isnull().mean() * 100).round(2)\n",
    "\n",
    "# Display the missing values percentage for each column\n",
    "print(\"Missing Values Percentage:\")\n",
    "print(missing_values_percentage)"
   ]
  },
  {
   "cell_type": "code",
   "execution_count": 103,
   "metadata": {},
   "outputs": [
    {
     "data": {
      "text/plain": [
       "(26032, 21)"
      ]
     },
     "execution_count": 103,
     "metadata": {},
     "output_type": "execute_result"
    }
   ],
   "source": [
    "\n",
    "# Replace missing values in all columns with the mean of each column\n",
    "test_Vital_Signs = test_Vital_Signs.fillna(test_Vital_Signs.mean())\n",
    "test_Vital_Signs.shape"
   ]
  },
  {
   "cell_type": "code",
   "execution_count": 104,
   "metadata": {},
   "outputs": [
    {
     "data": {
      "text/plain": [
       "id                  0\n",
       "OBS1_hrate_max      0\n",
       "OBS1_hrate_min      0\n",
       "OBS2_hrate_max      0\n",
       "OBS2_hrate_min      0\n",
       "OBS1_reprate_max    0\n",
       "OBS1_reprate_min    0\n",
       "OBS2_reprate_max    0\n",
       "OBS2_reprate_min    0\n",
       "OBS1_sysb_max       0\n",
       "OBS1_sysb_min       0\n",
       "OBS2_sysb_max       0\n",
       "OBS2_sysb_min       0\n",
       "OBS1_diasb_max      0\n",
       "OBS1_diasb_min      0\n",
       "OBS2_diasb_max      0\n",
       "OBS2_diasb_min      0\n",
       "OBS1_temper_max     0\n",
       "OBS1_temper_min     0\n",
       "OBS2_temper_max     0\n",
       "OBS2_temper_min     0\n",
       "dtype: int64"
      ]
     },
     "execution_count": 104,
     "metadata": {},
     "output_type": "execute_result"
    }
   ],
   "source": [
    "test_Vital_Signs.isnull().sum()"
   ]
  },
  {
   "cell_type": "code",
   "execution_count": null,
   "metadata": {},
   "outputs": [],
   "source": [
    "# Assuming train_Demographics and train_Laboratory_Findings dataframes are already defined in your environment\n",
    "# Merging all the train dataframes on the 'id' column\n",
    "merged_test_data = pd.merge(test_Demographics, test_Laboratory_Findings, on='id', how='inner')\n",
    "merged_test_data = pd.merge(merged_test_data, test_Medical_History, on='id', how='inner')\n",
    "merged_test_data = pd.merge(merged_test_data, test_Vital_Signs, on='id', how='inner')\n",
    "\n",
    "\n",
    "merged_test_data.head()\n",
    "merged_test_data.shape"
   ]
  },
  {
   "cell_type": "code",
   "execution_count": null,
   "metadata": {},
   "outputs": [],
   "source": [
    "from sklearn.linear_model import LogisticRegression\n",
    "\n",
    "# Prepare input features (X) and target variable (y) from merged_train_data\n",
    "X_train = merged_train_data[best_features_list]\n",
    "y_train = merged_train_data['fasting_ability']\n",
    "\n",
    "# Train the logistic regression model\n",
    "logistic_reg = LogisticRegression(max_iter=1000)\n",
    "logistic_reg.fit(X_train, y_train)\n",
    "\n",
    "# Prepare input features (X_evaluation) from merged_test_data\n",
    "X_evaluation = merged_test_data[best_features_list]\n",
    "\n",
    "# Predict fasting abilities for IDs in merged_test_data\n",
    "y_predict = logistic_reg.predict(X_evaluation)\n",
    "\n",
    "# Create a new DataFrame with 'id' and predicted 'fasting_ability'\n",
    "predictions_df = pd.DataFrame({'id': merged_test_data['id'], 'fasting_ability': y_predict})\n",
    "\n",
    "# Save the new DataFrame to a CSV file\n",
    "predictions_df.to_csv('predicted_fasting_ability_logistic_regression.csv', index=False)\n",
    "\n",
    "\n"
   ]
  },
  {
   "cell_type": "code",
   "execution_count": null,
   "metadata": {},
   "outputs": [],
   "source": [
    "merged_train_data.shape,merged_test_data.shape"
   ]
  },
  {
   "cell_type": "code",
   "execution_count": null,
   "metadata": {},
   "outputs": [],
   "source": [
    "\"\"\"from sklearn.ensemble import RandomForestRegressor\n",
    "from sklearn.model_selection import GridSearchCV\n",
    "\n",
    "# Define the parameter grid\n",
    "param_grid = {\n",
    "    'n_estimators': [100, 200, 300],\n",
    "    'max_depth': [None, 10, 20],\n",
    "    'min_samples_split': [2, 5, 10],\n",
    "    'min_samples_leaf': [1, 2, 4]\n",
    "}\n",
    "\n",
    "# Create a RandomForestRegressor\n",
    "rf_regressor = RandomForestRegressor(random_state=0)\n",
    "\n",
    "# Instantiate the GridSearchCV object\n",
    "grid_search = GridSearchCV(estimator=rf_regressor, param_grid=param_grid, cv=5, scoring='neg_mean_squared_error')\n",
    "\n",
    "# Fit the GridSearchCV object to the data\n",
    "grid_search.fit(X_train, y_train)\n",
    "\n",
    "# Print the best parameters and best score\n",
    "print(\"Best Parameters:\", grid_search.best_params_)\n",
    "print(\"Best Score:\", grid_search.best_score_)\"\"\"\n"
   ]
  },
  {
   "cell_type": "code",
   "execution_count": null,
   "metadata": {},
   "outputs": [],
   "source": [
    "\n"
   ]
  },
  {
   "cell_type": "code",
   "execution_count": null,
   "metadata": {},
   "outputs": [],
   "source": []
  }
 ],
 "metadata": {
  "colab": {
   "name": "Welcome to DataCamp Workspaces.ipynb",
   "provenance": []
  },
  "kaggle": {
   "accelerator": "nvidiaTeslaT4",
   "dataSources": [
    {
     "datasetId": 4559722,
     "sourceId": 7790001,
     "sourceType": "datasetVersion"
    },
    {
     "datasetId": 4559773,
     "sourceId": 7790061,
     "sourceType": "datasetVersion"
    }
   ],
   "dockerImageVersionId": 30666,
   "isGpuEnabled": true,
   "isInternetEnabled": true,
   "language": "python",
   "sourceType": "notebook"
  },
  "kernelspec": {
   "display_name": "Python 3",
   "language": "python",
   "name": "python3"
  },
  "language_info": {
   "codemirror_mode": {
    "name": "ipython",
    "version": 3
   },
   "file_extension": ".py",
   "mimetype": "text/x-python",
   "name": "python",
   "nbconvert_exporter": "python",
   "pygments_lexer": "ipython3",
   "version": "3.8.5"
  }
 },
 "nbformat": 4,
 "nbformat_minor": 5
}
